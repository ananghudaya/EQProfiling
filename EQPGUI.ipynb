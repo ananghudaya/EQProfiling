{
 "cells": [
  {
   "cell_type": "code",
   "execution_count": 73,
   "metadata": {
    "collapsed": false
   },
   "outputs": [],
   "source": [
    "from ipywidgets import *\n",
    "from IPython.display import display\n",
    "from IPython.display import HTML\n",
    "import datetime\n",
    "\n",
    "import pandas as pd\n",
    "\n",
    "#ind = pd.DataFrame({'Name' : []})\n",
    "#ind = ind.append({'Name': 'Hello'}, ignore_index=True)\n",
    "#des = \"hello\"\n",
    "\n",
    "#print(ind)"
   ]
  },
  {
   "cell_type": "markdown",
   "metadata": {},
   "source": [
    "## Determining the Entrepreneurial Quotient among University Students\n",
    "\n",
    "Dear respondent,\n",
    "\n",
    "The objective of this research is to determine your Entrepreneurial Quotient (EQ). EQ is the measurement of the entrepreneurship potential that can lead to the desired behaviour i.e. being an entrepreneur, starting up business and thus ultimately energising the exonomy.\n",
    "\n",
    "One of the major thrusts of the economic transformation plan by the government is to propel Malaysia into a high income nation through innovation-led growth by 2020. In order to achieve this, entrepreneurship is seen as the key driving factor.\n",
    "\n",
    "The survey consists of three (3) sections and takes around thirty (30) minutes to complete. All of your answers will be kept strictly confidential and will be used for legitimate research purposes. Should you have any inquiries please do not hesitate to contact us.\n",
    "\n",
    "Thank you for your participation!\n",
    "\n",
    "### Personal Information"
   ]
  },
  {
   "cell_type": "code",
   "execution_count": 74,
   "metadata": {
    "collapsed": false,
    "deletable": true,
    "editable": true
   },
   "outputs": [
    {
     "data": {
      "application/vnd.jupyter.widget-view+json": {
       "model_id": "0439f7f083fd4bd8a41a1ac6b3876caf"
      }
     },
     "metadata": {},
     "output_type": "display_data"
    }
   ],
   "source": [
    "#inText = widgets.Text()\n",
    "\n",
    "#def makeUpperCase(sender):\n",
    "#    outText.value = inText.value.upper()\n",
    "    \n",
    "#inText.on_submit(makeUpperCase)\n",
    "#inText\n",
    "\n",
    "descName = widgets.Label(value=\"Name\")\n",
    "txtName = widgets.Text()\n",
    "widgets.HBox([descName, txtName])\n",
    "\n",
    "descID = widgets.Label(value=\"Student ID\")\n",
    "txtID = widgets.Text()\n",
    "\n",
    "#def handle_submit(sender):\n",
    "#    indata['Name'] = txtName.value\n",
    "#    print(tet)\n",
    "    \n",
    "\n",
    "#display(txtName)\n",
    "#txtName.on_submit(handle_submit)\n",
    "widgets.VBox([HBox([descName, txtName]), HBox([descID, txtID])])"
   ]
  },
  {
   "cell_type": "code",
   "execution_count": 75,
   "metadata": {
    "collapsed": false
   },
   "outputs": [
    {
     "data": {
      "application/vnd.jupyter.widget-view+json": {
       "model_id": "1372bad4285c497e9628b9f82addac98"
      }
     },
     "metadata": {},
     "output_type": "display_data"
    },
    {
     "name": "stdout",
     "output_type": "stream",
     "text": [
      "0    Anang Hudaya bin Muhamad Amin\n",
      "1                       1001120832\n",
      "2       2017-06-14 15:17:44.074021\n",
      "dtype: object\n"
     ]
    }
   ],
   "source": [
    "button = widgets.Button(description=\"Submit!\")\n",
    "display(button)\n",
    "\n",
    "\n",
    "def on_button_clicked(des):\n",
    "    name = txtName.value\n",
    "    ids = txtID.value\n",
    "    eqFrame = pd.Series([name, ids, datetime.datetime.now()], index=[0, 1, 2])\n",
    "    #eqFrame = des.to_frame()\n",
    "    print(eqFrame)\n",
    "    return des\n",
    "\n",
    "button.on_click(on_button_clicked)"
   ]
  },
  {
   "cell_type": "code",
   "execution_count": null,
   "metadata": {
    "collapsed": true
   },
   "outputs": [],
   "source": []
  }
 ],
 "metadata": {
  "kernelspec": {
   "display_name": "Python 3",
   "language": "python",
   "name": "python3"
  },
  "language_info": {
   "codemirror_mode": {
    "name": "ipython",
    "version": 3
   },
   "file_extension": ".py",
   "mimetype": "text/x-python",
   "name": "python",
   "nbconvert_exporter": "python",
   "pygments_lexer": "ipython3",
   "version": "3.5.3"
  },
  "widgets": {
   "application/vnd.jupyter.widget-state+json": {
    "state": {
     "00476ab5cd4340ad80ec24cc437332e8": {
      "model_module": "jupyter-js-widgets",
      "model_module_version": "~2.1.4",
      "model_name": "LayoutModel",
      "state": {
       "_model_module_version": "~2.1.4",
       "_view_module_version": "~2.1.4"
      }
     },
     "017d1d595e7f497686f695d6affa4eaa": {
      "model_module": "jupyter-js-widgets",
      "model_module_version": "~2.1.4",
      "model_name": "LabelModel",
      "state": {
       "_model_module_version": "~2.1.4",
       "_view_module_version": "~2.1.4",
       "layout": "IPY_MODEL_eee8908c1221499a97f3c8193813269b",
       "value": "Name"
      }
     },
     "02665e2669d54593b6101180dbfd3d98": {
      "model_module": "jupyter-js-widgets",
      "model_module_version": "~2.1.4",
      "model_name": "LayoutModel",
      "state": {
       "_model_module_version": "~2.1.4",
       "_view_module_version": "~2.1.4"
      }
     },
     "02f5bbb63c2b465f8ddae155e6e7095c": {
      "model_module": "jupyter-js-widgets",
      "model_module_version": "~2.1.4",
      "model_name": "LayoutModel",
      "state": {
       "_model_module_version": "~2.1.4",
       "_view_module_version": "~2.1.4"
      }
     },
     "02fda1884bf544bda82c36a32f2e51f7": {
      "model_module": "jupyter-js-widgets",
      "model_module_version": "~2.1.4",
      "model_name": "LayoutModel",
      "state": {
       "_model_module_version": "~2.1.4",
       "_view_module_version": "~2.1.4"
      }
     },
     "030723dd2f284a1db74425672e6cc578": {
      "model_module": "jupyter-js-widgets",
      "model_module_version": "~2.1.4",
      "model_name": "LayoutModel",
      "state": {
       "_model_module_version": "~2.1.4",
       "_view_module_version": "~2.1.4"
      }
     },
     "03750c2e02da4d14a5c25dca83a8611c": {
      "model_module": "jupyter-js-widgets",
      "model_module_version": "~2.1.4",
      "model_name": "LayoutModel",
      "state": {
       "_model_module_version": "~2.1.4",
       "_view_module_version": "~2.1.4"
      }
     },
     "03785e530be74a828892c15cabf12b37": {
      "model_module": "jupyter-js-widgets",
      "model_module_version": "~2.1.4",
      "model_name": "LayoutModel",
      "state": {
       "_model_module_version": "~2.1.4",
       "_view_module_version": "~2.1.4"
      }
     },
     "03877f1b329046c48083aac0b8e4113b": {
      "model_module": "jupyter-js-widgets",
      "model_module_version": "~2.1.4",
      "model_name": "LayoutModel",
      "state": {
       "_model_module_version": "~2.1.4",
       "_view_module_version": "~2.1.4"
      }
     },
     "0439f7f083fd4bd8a41a1ac6b3876caf": {
      "model_module": "jupyter-js-widgets",
      "model_module_version": "~2.1.4",
      "model_name": "VBoxModel",
      "state": {
       "_model_module_version": "~2.1.4",
       "_view_module_version": "~2.1.4",
       "children": [
        "IPY_MODEL_7cbb48b96bb141259d61cad3775a08f9",
        "IPY_MODEL_9e38a3d18e774747ad370b34e433d6c9"
       ],
       "layout": "IPY_MODEL_a038e21bf25742739fd2d387542df7f0"
      }
     },
     "043b31330749472f981e643165ed6361": {
      "model_module": "jupyter-js-widgets",
      "model_module_version": "~2.1.4",
      "model_name": "LayoutModel",
      "state": {
       "_model_module_version": "~2.1.4",
       "_view_module_version": "~2.1.4"
      }
     },
     "061c0d491ea74627a075f22caf9894c6": {
      "model_module": "jupyter-js-widgets",
      "model_module_version": "~2.1.4",
      "model_name": "TextModel",
      "state": {
       "_model_module_version": "~2.1.4",
       "_view_module_version": "~2.1.4",
       "layout": "IPY_MODEL_7b1d93c592be4f738478a0b43ddf81a9",
       "value": "SASASASASA"
      }
     },
     "06496b94fb1b458f95f3b41db4e12ae7": {
      "model_module": "jupyter-js-widgets",
      "model_module_version": "~2.1.4",
      "model_name": "LayoutModel",
      "state": {
       "_model_module_version": "~2.1.4",
       "_view_module_version": "~2.1.4"
      }
     },
     "06a9f5e0a55b42b59c4177ab9233f378": {
      "model_module": "jupyter-js-widgets",
      "model_module_version": "~2.1.4",
      "model_name": "TextModel",
      "state": {
       "_model_module_version": "~2.1.4",
       "_view_module_version": "~2.1.4",
       "layout": "IPY_MODEL_f1e770c8e9324104b32c9a5f0ce90da1",
       "value": "Anang Hudaya bin Muhamad Amin"
      }
     },
     "06ad695667cd42e2acd47961d96b80be": {
      "model_module": "jupyter-js-widgets",
      "model_module_version": "~2.1.4",
      "model_name": "LayoutModel",
      "state": {
       "_model_module_version": "~2.1.4",
       "_view_module_version": "~2.1.4"
      }
     },
     "07431ae04ec9470c9aaed1314847a22e": {
      "model_module": "jupyter-js-widgets",
      "model_module_version": "~2.1.4",
      "model_name": "TextModel",
      "state": {
       "_model_module_version": "~2.1.4",
       "_view_module_version": "~2.1.4",
       "layout": "IPY_MODEL_39057eebf4c9439d8cee3ddd6f9ca1b5",
       "value": "ANANG"
      }
     },
     "0758e622847d4d00a80d4100e8e7e371": {
      "model_module": "jupyter-js-widgets",
      "model_module_version": "~2.1.4",
      "model_name": "LayoutModel",
      "state": {
       "_model_module_version": "~2.1.4",
       "_view_module_version": "~2.1.4"
      }
     },
     "07a66ec76c8242f3937b5587fed56521": {
      "model_module": "jupyter-js-widgets",
      "model_module_version": "~2.1.4",
      "model_name": "TextModel",
      "state": {
       "_model_module_version": "~2.1.4",
       "_view_module_version": "~2.1.4",
       "layout": "IPY_MODEL_3c033be18abc475e9155ba7834f9614a",
       "value": "SASA"
      }
     },
     "08a5989cccb9426da0a75926b63e2704": {
      "model_module": "jupyter-js-widgets",
      "model_module_version": "~2.1.4",
      "model_name": "LayoutModel",
      "state": {
       "_model_module_version": "~2.1.4",
       "_view_module_version": "~2.1.4"
      }
     },
     "08ebb79460a6406fbfd4cb71071aeca8": {
      "model_module": "jupyter-js-widgets",
      "model_module_version": "~2.1.4",
      "model_name": "LayoutModel",
      "state": {
       "_model_module_version": "~2.1.4",
       "_view_module_version": "~2.1.4"
      }
     },
     "0a0e6a94f5444fcc9d26a78d50ceefb8": {
      "model_module": "jupyter-js-widgets",
      "model_module_version": "~2.1.4",
      "model_name": "TextModel",
      "state": {
       "_model_module_version": "~2.1.4",
       "_view_module_version": "~2.1.4",
       "layout": "IPY_MODEL_436eb4a445904a00b9f484de6880a460",
       "value": "sasasa"
      }
     },
     "0a40cc45f2b04a7d9fbc4b7e96de705d": {
      "model_module": "jupyter-js-widgets",
      "model_module_version": "~2.1.4",
      "model_name": "TextModel",
      "state": {
       "_model_module_version": "~2.1.4",
       "_view_module_version": "~2.1.4",
       "layout": "IPY_MODEL_1983c6d68b1d4ae5a4a51b9e76cf3732",
       "value": "SASA"
      }
     },
     "0a4c352305a641a5b58dd76b0331a333": {
      "model_module": "jupyter-js-widgets",
      "model_module_version": "~2.1.4",
      "model_name": "HBoxModel",
      "state": {
       "_model_module_version": "~2.1.4",
       "_view_module_version": "~2.1.4",
       "children": [
        "IPY_MODEL_017d1d595e7f497686f695d6affa4eaa",
        "IPY_MODEL_e24546a495fb4d86b64c741c0794d180"
       ],
       "layout": "IPY_MODEL_a5f18b24a9054bddae837f9926e9aa97"
      }
     },
     "0b5fa72181f145f2891b97b1c2f4ba81": {
      "model_module": "jupyter-js-widgets",
      "model_module_version": "~2.1.4",
      "model_name": "LabelModel",
      "state": {
       "_model_module_version": "~2.1.4",
       "_view_module_version": "~2.1.4",
       "layout": "IPY_MODEL_267cdbbb77814e33a194de70fb6f5a5f",
       "value": "Student ID"
      }
     },
     "0bced79c6f2346d882f7f8c97f313adb": {
      "model_module": "jupyter-js-widgets",
      "model_module_version": "~2.1.4",
      "model_name": "ButtonStyleModel",
      "state": {
       "_model_module_version": "~2.1.4",
       "_view_module_version": "~2.1.4"
      }
     },
     "0e55fb6706a445569bb1eb282e18899d": {
      "model_module": "jupyter-js-widgets",
      "model_module_version": "~2.1.4",
      "model_name": "ButtonModel",
      "state": {
       "_model_module_version": "~2.1.4",
       "_view_module_version": "~2.1.4",
       "description": "Submit!",
       "layout": "IPY_MODEL_06496b94fb1b458f95f3b41db4e12ae7",
       "style": "IPY_MODEL_fb9606a6a95047c5b782f1203d0cf07b"
      }
     },
     "0f32573aab4b4ce193d981dc63bbd171": {
      "model_module": "jupyter-js-widgets",
      "model_module_version": "~2.1.4",
      "model_name": "HBoxModel",
      "state": {
       "_model_module_version": "~2.1.4",
       "_view_module_version": "~2.1.4",
       "children": [
        "IPY_MODEL_9c7859c1fdd84031a8277915845c844c",
        "IPY_MODEL_43894299c2b64d8f90114d89cd0af807"
       ],
       "layout": "IPY_MODEL_cc6f85c84dc0495dba7faedc6650ca40"
      }
     },
     "117b0df7de584814984b09e80b010a10": {
      "model_module": "jupyter-js-widgets",
      "model_module_version": "~2.1.4",
      "model_name": "VBoxModel",
      "state": {
       "_model_module_version": "~2.1.4",
       "_view_module_version": "~2.1.4",
       "children": [
        "IPY_MODEL_618674bc82eb406391fb5dcc5ae9d64a",
        "IPY_MODEL_78d6b2280ec24a68a1281646502579dc"
       ],
       "layout": "IPY_MODEL_e258bb5820264846ba98088f4b4331c0"
      }
     },
     "121e340a588847da879cdf6e6fd91cab": {
      "model_module": "jupyter-js-widgets",
      "model_module_version": "~2.1.4",
      "model_name": "LayoutModel",
      "state": {
       "_model_module_version": "~2.1.4",
       "_view_module_version": "~2.1.4"
      }
     },
     "12255d1ab66445898ac72bb7dfb8c91f": {
      "model_module": "jupyter-js-widgets",
      "model_module_version": "~2.1.4",
      "model_name": "TextModel",
      "state": {
       "_model_module_version": "~2.1.4",
       "_view_module_version": "~2.1.4",
       "layout": "IPY_MODEL_63deac055e0a4105ac6ea610ded586e1",
       "value": "anang"
      }
     },
     "125c1df97a2f43b29a5f44c120310828": {
      "model_module": "jupyter-js-widgets",
      "model_module_version": "~2.1.4",
      "model_name": "LayoutModel",
      "state": {
       "_model_module_version": "~2.1.4",
       "_view_module_version": "~2.1.4"
      }
     },
     "1372bad4285c497e9628b9f82addac98": {
      "model_module": "jupyter-js-widgets",
      "model_module_version": "~2.1.4",
      "model_name": "ButtonModel",
      "state": {
       "_model_module_version": "~2.1.4",
       "_view_module_version": "~2.1.4",
       "description": "Submit!",
       "layout": "IPY_MODEL_e131134cffff44388383cd850fd3c46a",
       "style": "IPY_MODEL_16799133e52c43c08868a5d44bbc7385"
      }
     },
     "1381af3447654d588dc3e2990102026d": {
      "model_module": "jupyter-js-widgets",
      "model_module_version": "~2.1.4",
      "model_name": "LayoutModel",
      "state": {
       "_model_module_version": "~2.1.4",
       "_view_module_version": "~2.1.4"
      }
     },
     "1410aaf3642d4f6e99636030d0bffc98": {
      "model_module": "jupyter-js-widgets",
      "model_module_version": "~2.1.4",
      "model_name": "LayoutModel",
      "state": {
       "_model_module_version": "~2.1.4",
       "_view_module_version": "~2.1.4"
      }
     },
     "145231f7586647b5b0336e41ff0b1ce5": {
      "model_module": "jupyter-js-widgets",
      "model_module_version": "~2.1.4",
      "model_name": "ButtonStyleModel",
      "state": {
       "_model_module_version": "~2.1.4",
       "_view_module_version": "~2.1.4"
      }
     },
     "151bf2d59ca44f54b657b62371b55cf1": {
      "model_module": "jupyter-js-widgets",
      "model_module_version": "~2.1.4",
      "model_name": "ButtonModel",
      "state": {
       "_model_module_version": "~2.1.4",
       "_view_module_version": "~2.1.4",
       "description": "Submit!",
       "layout": "IPY_MODEL_82fdb947356c46bb92d7662b7cc0deed",
       "style": "IPY_MODEL_145231f7586647b5b0336e41ff0b1ce5"
      }
     },
     "153a6cdaf65845e0a50bbae3b18c4230": {
      "model_module": "jupyter-js-widgets",
      "model_module_version": "~2.1.4",
      "model_name": "TextModel",
      "state": {
       "_model_module_version": "~2.1.4",
       "_view_module_version": "~2.1.4",
       "layout": "IPY_MODEL_faaba973cbd54c129aefa2294324e0f3",
       "value": "dedede"
      }
     },
     "158d2e02cdc64ee0b035654528182c9a": {
      "model_module": "jupyter-js-widgets",
      "model_module_version": "~2.1.4",
      "model_name": "LayoutModel",
      "state": {
       "_model_module_version": "~2.1.4",
       "_view_module_version": "~2.1.4"
      }
     },
     "16799133e52c43c08868a5d44bbc7385": {
      "model_module": "jupyter-js-widgets",
      "model_module_version": "~2.1.4",
      "model_name": "ButtonStyleModel",
      "state": {
       "_model_module_version": "~2.1.4",
       "_view_module_version": "~2.1.4"
      }
     },
     "171faffd153a439e99a076dc5cecd043": {
      "model_module": "jupyter-js-widgets",
      "model_module_version": "~2.1.4",
      "model_name": "LayoutModel",
      "state": {
       "_model_module_version": "~2.1.4",
       "_view_module_version": "~2.1.4"
      }
     },
     "17d9c472be5f400f89adf07d851b4d33": {
      "model_module": "jupyter-js-widgets",
      "model_module_version": "~2.1.4",
      "model_name": "ButtonModel",
      "state": {
       "_model_module_version": "~2.1.4",
       "_view_module_version": "~2.1.4",
       "description": "Submit!",
       "layout": "IPY_MODEL_2b872d3e39524437801ecbedfdfd4009",
       "style": "IPY_MODEL_3f069f4c3565445487eb66ac8d8eb525"
      }
     },
     "1861aad31add4a04858cc88267eb5001": {
      "model_module": "jupyter-js-widgets",
      "model_module_version": "~2.1.4",
      "model_name": "TextModel",
      "state": {
       "_model_module_version": "~2.1.4",
       "_view_module_version": "~2.1.4",
       "layout": "IPY_MODEL_03785e530be74a828892c15cabf12b37",
       "value": "ANANG"
      }
     },
     "18629189bb3146c2946a575eaa930f7f": {
      "model_module": "jupyter-js-widgets",
      "model_module_version": "~2.1.4",
      "model_name": "TextModel",
      "state": {
       "_model_module_version": "~2.1.4",
       "_view_module_version": "~2.1.4",
       "layout": "IPY_MODEL_924f8a5e525f432f8eb631f9b9d669c2",
       "value": "dede"
      }
     },
     "189c40dc8eb549a4a81084ca4aaadfeb": {
      "model_module": "jupyter-js-widgets",
      "model_module_version": "~2.1.4",
      "model_name": "LabelModel",
      "state": {
       "_model_module_version": "~2.1.4",
       "_view_module_version": "~2.1.4",
       "layout": "IPY_MODEL_e14414f304704861898b2495a1afd892",
       "value": "Student ID"
      }
     },
     "1983c6d68b1d4ae5a4a51b9e76cf3732": {
      "model_module": "jupyter-js-widgets",
      "model_module_version": "~2.1.4",
      "model_name": "LayoutModel",
      "state": {
       "_model_module_version": "~2.1.4",
       "_view_module_version": "~2.1.4"
      }
     },
     "1a8e03876176408e885d28d67f05d5f9": {
      "model_module": "jupyter-js-widgets",
      "model_module_version": "~2.1.4",
      "model_name": "ButtonStyleModel",
      "state": {
       "_model_module_version": "~2.1.4",
       "_view_module_version": "~2.1.4"
      }
     },
     "1b1d7356431748dfa4c09d0d86f56dc2": {
      "model_module": "jupyter-js-widgets",
      "model_module_version": "~2.1.4",
      "model_name": "ButtonModel",
      "state": {
       "_model_module_version": "~2.1.4",
       "_view_module_version": "~2.1.4",
       "description": "Submit!",
       "layout": "IPY_MODEL_e39039292dc44d08944a848ff1f52d75",
       "style": "IPY_MODEL_ca52d7d2c4d348a8995e2851c931d7dd"
      }
     },
     "1b7d917e674e453e9ce44eb9cf8986d7": {
      "model_module": "jupyter-js-widgets",
      "model_module_version": "~2.1.4",
      "model_name": "LayoutModel",
      "state": {
       "_model_module_version": "~2.1.4",
       "_view_module_version": "~2.1.4"
      }
     },
     "1bbe1a3b483b430cac291f4cd3ab843e": {
      "model_module": "jupyter-js-widgets",
      "model_module_version": "~2.1.4",
      "model_name": "LayoutModel",
      "state": {
       "_model_module_version": "~2.1.4",
       "_view_module_version": "~2.1.4"
      }
     },
     "1daaf77382994ec688b3cb24fd15f9dd": {
      "model_module": "jupyter-js-widgets",
      "model_module_version": "~2.1.4",
      "model_name": "TextModel",
      "state": {
       "_model_module_version": "~2.1.4",
       "_view_module_version": "~2.1.4",
       "layout": "IPY_MODEL_e3c61f676532480d82dde70fd570d4ac"
      }
     },
     "1dc37150b73b4de6869add91b7fcd681": {
      "model_module": "jupyter-js-widgets",
      "model_module_version": "~2.1.4",
      "model_name": "ButtonModel",
      "state": {
       "_model_module_version": "~2.1.4",
       "_view_module_version": "~2.1.4",
       "description": "Submit!",
       "layout": "IPY_MODEL_d29c7fe4b5b84c96bbd904670b59b99c",
       "style": "IPY_MODEL_590bbbacd74d4c14870223595594849e"
      }
     },
     "1e052a27847b4f2d9a2e6ab0ad8aa85c": {
      "model_module": "jupyter-js-widgets",
      "model_module_version": "~2.1.4",
      "model_name": "TextModel",
      "state": {
       "_model_module_version": "~2.1.4",
       "_view_module_version": "~2.1.4",
       "layout": "IPY_MODEL_ef6db3093d9c44e0949acbb5c7456f23",
       "value": "SASASA"
      }
     },
     "1e6dcfef96934ad798b7c2729f694e9e": {
      "model_module": "jupyter-js-widgets",
      "model_module_version": "~2.1.4",
      "model_name": "LayoutModel",
      "state": {
       "_model_module_version": "~2.1.4",
       "_view_module_version": "~2.1.4"
      }
     },
     "1f282eba6e174cf4a2f96832c387a343": {
      "model_module": "jupyter-js-widgets",
      "model_module_version": "~2.1.4",
      "model_name": "LayoutModel",
      "state": {
       "_model_module_version": "~2.1.4",
       "_view_module_version": "~2.1.4"
      }
     },
     "1fc6bb824f314ed5bb9f25fdb79c3224": {
      "model_module": "jupyter-js-widgets",
      "model_module_version": "~2.1.4",
      "model_name": "ButtonStyleModel",
      "state": {
       "_model_module_version": "~2.1.4",
       "_view_module_version": "~2.1.4"
      }
     },
     "2067e234610340e6bf22180b1d81f18d": {
      "model_module": "jupyter-js-widgets",
      "model_module_version": "~2.1.4",
      "model_name": "LayoutModel",
      "state": {
       "_model_module_version": "~2.1.4",
       "_view_module_version": "~2.1.4"
      }
     },
     "20a9c9deae724a53a5d6a60cc3e5bfeb": {
      "model_module": "jupyter-js-widgets",
      "model_module_version": "~2.1.4",
      "model_name": "LayoutModel",
      "state": {
       "_model_module_version": "~2.1.4",
       "_view_module_version": "~2.1.4"
      }
     },
     "21b776409726460d890cd0e68fd74358": {
      "model_module": "jupyter-js-widgets",
      "model_module_version": "~2.1.4",
      "model_name": "ButtonModel",
      "state": {
       "_model_module_version": "~2.1.4",
       "_view_module_version": "~2.1.4",
       "description": "Submit!",
       "layout": "IPY_MODEL_043b31330749472f981e643165ed6361",
       "style": "IPY_MODEL_5f782b7eafd04b95b808fd49f7987883"
      }
     },
     "267cdbbb77814e33a194de70fb6f5a5f": {
      "model_module": "jupyter-js-widgets",
      "model_module_version": "~2.1.4",
      "model_name": "LayoutModel",
      "state": {
       "_model_module_version": "~2.1.4",
       "_view_module_version": "~2.1.4"
      }
     },
     "2828a31773c34b389959369474e9e30b": {
      "model_module": "jupyter-js-widgets",
      "model_module_version": "~2.1.4",
      "model_name": "LabelModel",
      "state": {
       "_model_module_version": "~2.1.4",
       "_view_module_version": "~2.1.4",
       "layout": "IPY_MODEL_645b4b84980342288a05612b6ec682ea",
       "value": "Name"
      }
     },
     "28a7c22d0ad3457188f7d939eaa13309": {
      "model_module": "jupyter-js-widgets",
      "model_module_version": "~2.1.4",
      "model_name": "LayoutModel",
      "state": {
       "_model_module_version": "~2.1.4",
       "_view_module_version": "~2.1.4"
      }
     },
     "2b872d3e39524437801ecbedfdfd4009": {
      "model_module": "jupyter-js-widgets",
      "model_module_version": "~2.1.4",
      "model_name": "LayoutModel",
      "state": {
       "_model_module_version": "~2.1.4",
       "_view_module_version": "~2.1.4"
      }
     },
     "2c43b5bd9adf4535b58c352a89f36543": {
      "model_module": "jupyter-js-widgets",
      "model_module_version": "~2.1.4",
      "model_name": "LayoutModel",
      "state": {
       "_model_module_version": "~2.1.4",
       "_view_module_version": "~2.1.4"
      }
     },
     "2d9c333e0c1b407cb4a6b6244be02eaf": {
      "model_module": "jupyter-js-widgets",
      "model_module_version": "~2.1.4",
      "model_name": "VBoxModel",
      "state": {
       "_model_module_version": "~2.1.4",
       "_view_module_version": "~2.1.4",
       "children": [
        "IPY_MODEL_0a4c352305a641a5b58dd76b0331a333",
        "IPY_MODEL_a610e4af67c643f5b2d60934d5dcdd7e"
       ],
       "layout": "IPY_MODEL_5bfe713e9ca643dca4651d123c96d0a0"
      }
     },
     "2df8d2ee8c8e432bb180f852f76b9478": {
      "model_module": "jupyter-js-widgets",
      "model_module_version": "~2.1.4",
      "model_name": "TextModel",
      "state": {
       "_model_module_version": "~2.1.4",
       "_view_module_version": "~2.1.4",
       "layout": "IPY_MODEL_9b65adb6e91e41d3895197f74bcc6572"
      }
     },
     "2e52924235704dc3a3fdbfbb4404526a": {
      "model_module": "jupyter-js-widgets",
      "model_module_version": "~2.1.4",
      "model_name": "LayoutModel",
      "state": {
       "_model_module_version": "~2.1.4",
       "_view_module_version": "~2.1.4"
      }
     },
     "2e95804a45b44707888ef013abe023b1": {
      "model_module": "jupyter-js-widgets",
      "model_module_version": "~2.1.4",
      "model_name": "ButtonModel",
      "state": {
       "_model_module_version": "~2.1.4",
       "_view_module_version": "~2.1.4",
       "description": "Submit!",
       "layout": "IPY_MODEL_a6faeda4c7424dde8ae5036cfc47401c",
       "style": "IPY_MODEL_1a8e03876176408e885d28d67f05d5f9"
      }
     },
     "2f0ac601f0e742fa95302b8972c0295a": {
      "model_module": "jupyter-js-widgets",
      "model_module_version": "~2.1.4",
      "model_name": "ButtonModel",
      "state": {
       "_model_module_version": "~2.1.4",
       "_view_module_version": "~2.1.4",
       "description": "Submit!",
       "layout": "IPY_MODEL_e8358dc3a071457187fe60a7e5959b43",
       "style": "IPY_MODEL_5485a6e4a6c94458ab85cc4e822b6b5a"
      }
     },
     "302a6436690f4decb9e2c78ce27630b1": {
      "model_module": "jupyter-js-widgets",
      "model_module_version": "~2.1.4",
      "model_name": "LabelModel",
      "state": {
       "_model_module_version": "~2.1.4",
       "_view_module_version": "~2.1.4",
       "layout": "IPY_MODEL_541b5caf0e454a1d8a572e561369a0a7",
       "value": "Student ID"
      }
     },
     "31682ff8469541eab84c5e20c596b263": {
      "model_module": "jupyter-js-widgets",
      "model_module_version": "~2.1.4",
      "model_name": "LayoutModel",
      "state": {
       "_model_module_version": "~2.1.4",
       "_view_module_version": "~2.1.4"
      }
     },
     "320ad2c787574d20b1d772fd2d9ed3f2": {
      "model_module": "jupyter-js-widgets",
      "model_module_version": "~2.1.4",
      "model_name": "LayoutModel",
      "state": {
       "_model_module_version": "~2.1.4",
       "_view_module_version": "~2.1.4"
      }
     },
     "337193baa3c94a56b486b5ab2c6b13e3": {
      "model_module": "jupyter-js-widgets",
      "model_module_version": "~2.1.4",
      "model_name": "LayoutModel",
      "state": {
       "_model_module_version": "~2.1.4",
       "_view_module_version": "~2.1.4"
      }
     },
     "33cc2c2dfcc04d9983b186ede566c472": {
      "model_module": "jupyter-js-widgets",
      "model_module_version": "~2.1.4",
      "model_name": "LayoutModel",
      "state": {
       "_model_module_version": "~2.1.4",
       "_view_module_version": "~2.1.4"
      }
     },
     "345959fdbedd4ff489ce1d6a3641c3df": {
      "model_module": "jupyter-js-widgets",
      "model_module_version": "~2.1.4",
      "model_name": "ButtonStyleModel",
      "state": {
       "_model_module_version": "~2.1.4",
       "_view_module_version": "~2.1.4"
      }
     },
     "34dd62645a2941fb8e43c2259004cad0": {
      "model_module": "jupyter-js-widgets",
      "model_module_version": "~2.1.4",
      "model_name": "LayoutModel",
      "state": {
       "_model_module_version": "~2.1.4",
       "_view_module_version": "~2.1.4"
      }
     },
     "34e889c53aa645a3bcdb1f6e8bb7ed5c": {
      "model_module": "jupyter-js-widgets",
      "model_module_version": "~2.1.4",
      "model_name": "ButtonModel",
      "state": {
       "_model_module_version": "~2.1.4",
       "_view_module_version": "~2.1.4",
       "description": "Submit!",
       "layout": "IPY_MODEL_af455eaec3a841a59d380d8099b38305",
       "style": "IPY_MODEL_401502f2085847ad81c0d58ee633e10c"
      }
     },
     "3589e480830543c6a3a33ed19716c5bb": {
      "model_module": "jupyter-js-widgets",
      "model_module_version": "~2.1.4",
      "model_name": "LayoutModel",
      "state": {
       "_model_module_version": "~2.1.4",
       "_view_module_version": "~2.1.4"
      }
     },
     "37ba1ad1f0124373ac59702ad599c21e": {
      "model_module": "jupyter-js-widgets",
      "model_module_version": "~2.1.4",
      "model_name": "ButtonModel",
      "state": {
       "_model_module_version": "~2.1.4",
       "_view_module_version": "~2.1.4",
       "description": "Submit!",
       "layout": "IPY_MODEL_6b9b1396d6af4532b7af95d70279da84",
       "style": "IPY_MODEL_677209886c144200ad2d05d281f709b4"
      }
     },
     "37d9fab324234355a703035f5ad54e21": {
      "model_module": "jupyter-js-widgets",
      "model_module_version": "~2.1.4",
      "model_name": "TextModel",
      "state": {
       "_model_module_version": "~2.1.4",
       "_view_module_version": "~2.1.4",
       "layout": "IPY_MODEL_e440205baee34260803d8027984eb967",
       "value": "ses"
      }
     },
     "3815a5a5ac7f45ffa62e174d4f2c709d": {
      "model_module": "jupyter-js-widgets",
      "model_module_version": "~2.1.4",
      "model_name": "LayoutModel",
      "state": {
       "_model_module_version": "~2.1.4",
       "_view_module_version": "~2.1.4"
      }
     },
     "39057eebf4c9439d8cee3ddd6f9ca1b5": {
      "model_module": "jupyter-js-widgets",
      "model_module_version": "~2.1.4",
      "model_name": "LayoutModel",
      "state": {
       "_model_module_version": "~2.1.4",
       "_view_module_version": "~2.1.4"
      }
     },
     "39141f2845ec4d5ba3311be52d0f3777": {
      "model_module": "jupyter-js-widgets",
      "model_module_version": "~2.1.4",
      "model_name": "LayoutModel",
      "state": {
       "_model_module_version": "~2.1.4",
       "_view_module_version": "~2.1.4"
      }
     },
     "39aa3f81c39f40e1b632fd94d1aafc59": {
      "model_module": "jupyter-js-widgets",
      "model_module_version": "~2.1.4",
      "model_name": "LayoutModel",
      "state": {
       "_model_module_version": "~2.1.4",
       "_view_module_version": "~2.1.4"
      }
     },
     "3a935c49b1394ab5bf6d17ad0c5d5262": {
      "model_module": "jupyter-js-widgets",
      "model_module_version": "~2.1.4",
      "model_name": "LayoutModel",
      "state": {
       "_model_module_version": "~2.1.4",
       "_view_module_version": "~2.1.4"
      }
     },
     "3add9ea24ae344c58e5d7fed1b5031fa": {
      "model_module": "jupyter-js-widgets",
      "model_module_version": "~2.1.4",
      "model_name": "LayoutModel",
      "state": {
       "_model_module_version": "~2.1.4",
       "_view_module_version": "~2.1.4"
      }
     },
     "3b1fa3dd1471432a964fb03f1a656fe3": {
      "model_module": "jupyter-js-widgets",
      "model_module_version": "~2.1.4",
      "model_name": "LayoutModel",
      "state": {
       "_model_module_version": "~2.1.4",
       "_view_module_version": "~2.1.4"
      }
     },
     "3babed7b96314ee3bf4f5087bc0795ab": {
      "model_module": "jupyter-js-widgets",
      "model_module_version": "~2.1.4",
      "model_name": "LayoutModel",
      "state": {
       "_model_module_version": "~2.1.4",
       "_view_module_version": "~2.1.4"
      }
     },
     "3c033be18abc475e9155ba7834f9614a": {
      "model_module": "jupyter-js-widgets",
      "model_module_version": "~2.1.4",
      "model_name": "LayoutModel",
      "state": {
       "_model_module_version": "~2.1.4",
       "_view_module_version": "~2.1.4"
      }
     },
     "3ccaa760f7f9498eb08dae5b29240c3d": {
      "model_module": "jupyter-js-widgets",
      "model_module_version": "~2.1.4",
      "model_name": "ButtonModel",
      "state": {
       "_model_module_version": "~2.1.4",
       "_view_module_version": "~2.1.4",
       "description": "Submit!",
       "layout": "IPY_MODEL_e17fab39e46d446896787557fba95766",
       "style": "IPY_MODEL_eb0c18f074ab42e8a26c9edc43bc3c0e"
      }
     },
     "3de1ec82919746bf82f8f40995451cec": {
      "model_module": "jupyter-js-widgets",
      "model_module_version": "~2.1.4",
      "model_name": "TextModel",
      "state": {
       "_model_module_version": "~2.1.4",
       "_view_module_version": "~2.1.4",
       "layout": "IPY_MODEL_158d2e02cdc64ee0b035654528182c9a"
      }
     },
     "3f069f4c3565445487eb66ac8d8eb525": {
      "model_module": "jupyter-js-widgets",
      "model_module_version": "~2.1.4",
      "model_name": "ButtonStyleModel",
      "state": {
       "_model_module_version": "~2.1.4",
       "_view_module_version": "~2.1.4"
      }
     },
     "3f9fe45bd4394c05909dfa6d8453562b": {
      "model_module": "jupyter-js-widgets",
      "model_module_version": "~2.1.4",
      "model_name": "HBoxModel",
      "state": {
       "_model_module_version": "~2.1.4",
       "_view_module_version": "~2.1.4",
       "children": [
        "IPY_MODEL_9c4f0a1bbf784f8097889246c0413a6a",
        "IPY_MODEL_7875883920124f1a93913527d698d8b6"
       ],
       "layout": "IPY_MODEL_08a5989cccb9426da0a75926b63e2704"
      }
     },
     "401502f2085847ad81c0d58ee633e10c": {
      "model_module": "jupyter-js-widgets",
      "model_module_version": "~2.1.4",
      "model_name": "ButtonStyleModel",
      "state": {
       "_model_module_version": "~2.1.4",
       "_view_module_version": "~2.1.4"
      }
     },
     "40627ac80bf1477f97bd68c7589855d5": {
      "model_module": "jupyter-js-widgets",
      "model_module_version": "~2.1.4",
      "model_name": "TextModel",
      "state": {
       "_model_module_version": "~2.1.4",
       "_view_module_version": "~2.1.4",
       "layout": "IPY_MODEL_83bd806ad3004cd3a7820e4fd0973aa7",
       "value": "anang"
      }
     },
     "40879cf518e148d58f5a900faf850dd4": {
      "model_module": "jupyter-js-widgets",
      "model_module_version": "~2.1.4",
      "model_name": "TextModel",
      "state": {
       "_model_module_version": "~2.1.4",
       "_view_module_version": "~2.1.4",
       "layout": "IPY_MODEL_7631356481cd43c5ba7fc707e581f35c",
       "value": "1212121"
      }
     },
     "40f8f6bd3f1b4b90ae050b4ee75a023b": {
      "model_module": "jupyter-js-widgets",
      "model_module_version": "~2.1.4",
      "model_name": "LabelModel",
      "state": {
       "_model_module_version": "~2.1.4",
       "_view_module_version": "~2.1.4",
       "layout": "IPY_MODEL_82bad262e7a549fba597c7fd5a3c203a",
       "value": "Name"
      }
     },
     "41811faef54a46b7a6b006fd6452001c": {
      "model_module": "jupyter-js-widgets",
      "model_module_version": "~2.1.4",
      "model_name": "TextModel",
      "state": {
       "_model_module_version": "~2.1.4",
       "_view_module_version": "~2.1.4",
       "layout": "IPY_MODEL_b05cf63d56ed4c1391c3810cf78df000",
       "value": "ANANG"
      }
     },
     "4218512c681948cca65dee5d7d652cc7": {
      "model_module": "jupyter-js-widgets",
      "model_module_version": "~2.1.4",
      "model_name": "ButtonStyleModel",
      "state": {
       "_model_module_version": "~2.1.4",
       "_view_module_version": "~2.1.4"
      }
     },
     "436eb4a445904a00b9f484de6880a460": {
      "model_module": "jupyter-js-widgets",
      "model_module_version": "~2.1.4",
      "model_name": "LayoutModel",
      "state": {
       "_model_module_version": "~2.1.4",
       "_view_module_version": "~2.1.4"
      }
     },
     "43894299c2b64d8f90114d89cd0af807": {
      "model_module": "jupyter-js-widgets",
      "model_module_version": "~2.1.4",
      "model_name": "TextModel",
      "state": {
       "_model_module_version": "~2.1.4",
       "_view_module_version": "~2.1.4",
       "layout": "IPY_MODEL_f8b3eb2cc6e94a169f5207be0e211192",
       "value": "Anang Hudaya"
      }
     },
     "442b8c0dbc3e408f9c0e6b3b54b86236": {
      "model_module": "jupyter-js-widgets",
      "model_module_version": "~2.1.4",
      "model_name": "TextModel",
      "state": {
       "_model_module_version": "~2.1.4",
       "_view_module_version": "~2.1.4",
       "layout": "IPY_MODEL_468238518b5244a3a556f3ef44034348"
      }
     },
     "4637764da701442da62f778bbde01da0": {
      "model_module": "jupyter-js-widgets",
      "model_module_version": "~2.1.4",
      "model_name": "ButtonStyleModel",
      "state": {
       "_model_module_version": "~2.1.4",
       "_view_module_version": "~2.1.4"
      }
     },
     "468238518b5244a3a556f3ef44034348": {
      "model_module": "jupyter-js-widgets",
      "model_module_version": "~2.1.4",
      "model_name": "LayoutModel",
      "state": {
       "_model_module_version": "~2.1.4",
       "_view_module_version": "~2.1.4"
      }
     },
     "46c9a693b1c34166ad6382db02ea1a77": {
      "model_module": "jupyter-js-widgets",
      "model_module_version": "~2.1.4",
      "model_name": "TextModel",
      "state": {
       "_model_module_version": "~2.1.4",
       "_view_module_version": "~2.1.4",
       "layout": "IPY_MODEL_5340726ca54448bca69815366820524a",
       "value": "fefef"
      }
     },
     "47cdc48b864f4b1ab6af54ff750801b4": {
      "model_module": "jupyter-js-widgets",
      "model_module_version": "~2.1.4",
      "model_name": "ButtonModel",
      "state": {
       "_model_module_version": "~2.1.4",
       "_view_module_version": "~2.1.4",
       "description": "Submit!",
       "layout": "IPY_MODEL_33cc2c2dfcc04d9983b186ede566c472",
       "style": "IPY_MODEL_74f1fd584ccb41dea606527077d281a7"
      }
     },
     "47e547b3669c46f7a4c9327d4f476376": {
      "model_module": "jupyter-js-widgets",
      "model_module_version": "~2.1.4",
      "model_name": "ButtonStyleModel",
      "state": {
       "_model_module_version": "~2.1.4",
       "_view_module_version": "~2.1.4"
      }
     },
     "499ba4b2312d4eb0a6f714f0ad0fee35": {
      "model_module": "jupyter-js-widgets",
      "model_module_version": "~2.1.4",
      "model_name": "TextModel",
      "state": {
       "_model_module_version": "~2.1.4",
       "_view_module_version": "~2.1.4",
       "layout": "IPY_MODEL_563076ded6ed49e99d1fb27ed243da5a"
      }
     },
     "49b6194ccccc4e6f983ff9c1fcf93529": {
      "model_module": "jupyter-js-widgets",
      "model_module_version": "~2.1.4",
      "model_name": "ButtonStyleModel",
      "state": {
       "_model_module_version": "~2.1.4",
       "_view_module_version": "~2.1.4"
      }
     },
     "49c2b4eac0a74152b293ff89db64ccd9": {
      "model_module": "jupyter-js-widgets",
      "model_module_version": "~2.1.4",
      "model_name": "TextModel",
      "state": {
       "_model_module_version": "~2.1.4",
       "_view_module_version": "~2.1.4",
       "layout": "IPY_MODEL_06ad695667cd42e2acd47961d96b80be",
       "value": "1001120832"
      }
     },
     "4b92d8afc88041c082c6311aad5a82ae": {
      "model_module": "jupyter-js-widgets",
      "model_module_version": "~2.1.4",
      "model_name": "LayoutModel",
      "state": {
       "_model_module_version": "~2.1.4",
       "_view_module_version": "~2.1.4"
      }
     },
     "4bcc73ed4bac4bbeb36a67d1bed4167e": {
      "model_module": "jupyter-js-widgets",
      "model_module_version": "~2.1.4",
      "model_name": "TextModel",
      "state": {
       "_model_module_version": "~2.1.4",
       "_view_module_version": "~2.1.4",
       "layout": "IPY_MODEL_85c1db38870d435ca66dac2e9d896f24",
       "value": "sasa"
      }
     },
     "4c8a103e8e3a497aa96f5ce3fd9ebf3a": {
      "model_module": "jupyter-js-widgets",
      "model_module_version": "~2.1.4",
      "model_name": "TextModel",
      "state": {
       "_model_module_version": "~2.1.4",
       "_view_module_version": "~2.1.4",
       "layout": "IPY_MODEL_03750c2e02da4d14a5c25dca83a8611c",
       "value": "ANANG"
      }
     },
     "4d3ab00fbf664096a55311439dcda7c6": {
      "model_module": "jupyter-js-widgets",
      "model_module_version": "~2.1.4",
      "model_name": "ButtonModel",
      "state": {
       "_model_module_version": "~2.1.4",
       "_view_module_version": "~2.1.4",
       "description": "Submit!",
       "layout": "IPY_MODEL_f70054f4f4d34a3ba041bdc66e80bd39",
       "style": "IPY_MODEL_dd5f5235d74949b49723cedf0c62a888"
      }
     },
     "4d66a20d14344dbc8f1a81cda38d5451": {
      "model_module": "jupyter-js-widgets",
      "model_module_version": "~2.1.4",
      "model_name": "TextModel",
      "state": {
       "_model_module_version": "~2.1.4",
       "_view_module_version": "~2.1.4",
       "layout": "IPY_MODEL_f100d3bf72534c3abfa4b07d0fa0e589",
       "value": "gtgtg"
      }
     },
     "4d67c5e5d5fd46398491fa3ce1472e01": {
      "model_module": "jupyter-js-widgets",
      "model_module_version": "~2.1.4",
      "model_name": "TextModel",
      "state": {
       "_model_module_version": "~2.1.4",
       "_view_module_version": "~2.1.4",
       "layout": "IPY_MODEL_dba308d058fb40bf89210188d6bb1844",
       "value": "Anang"
      }
     },
     "4eae4aab06ca47a2911d5f3dad1242e7": {
      "model_module": "jupyter-js-widgets",
      "model_module_version": "~2.1.4",
      "model_name": "VBoxModel",
      "state": {
       "_model_module_version": "~2.1.4",
       "_view_module_version": "~2.1.4",
       "children": [
        "IPY_MODEL_7aaca2ba9e4f4233ba9a6aad2fd99e28",
        "IPY_MODEL_5d6c3021c76d49d5801575fb0e96923a"
       ],
       "layout": "IPY_MODEL_99a36ac5f3334cc7b24c73f8ac6f7959"
      }
     },
     "4ec9be0f3b814a4aa1bdbba3b513b9f4": {
      "model_module": "jupyter-js-widgets",
      "model_module_version": "~2.1.4",
      "model_name": "ButtonStyleModel",
      "state": {
       "_model_module_version": "~2.1.4",
       "_view_module_version": "~2.1.4"
      }
     },
     "4efd518a5cdc4d8693ecce1c65bd017b": {
      "model_module": "jupyter-js-widgets",
      "model_module_version": "~2.1.4",
      "model_name": "LayoutModel",
      "state": {
       "_model_module_version": "~2.1.4",
       "_view_module_version": "~2.1.4"
      }
     },
     "50a0bac5073040e9892c556678d9f5dc": {
      "model_module": "jupyter-js-widgets",
      "model_module_version": "~2.1.4",
      "model_name": "LayoutModel",
      "state": {
       "_model_module_version": "~2.1.4",
       "_view_module_version": "~2.1.4"
      }
     },
     "50e0fa7056434cd08beadf529968c29c": {
      "model_module": "jupyter-js-widgets",
      "model_module_version": "~2.1.4",
      "model_name": "TextModel",
      "state": {
       "_model_module_version": "~2.1.4",
       "_view_module_version": "~2.1.4",
       "layout": "IPY_MODEL_4b92d8afc88041c082c6311aad5a82ae"
      }
     },
     "50e55c0bd2c243a2b7c62b0ac28e3a83": {
      "model_module": "jupyter-js-widgets",
      "model_module_version": "~2.1.4",
      "model_name": "ButtonModel",
      "state": {
       "_model_module_version": "~2.1.4",
       "_view_module_version": "~2.1.4",
       "description": "Submit!",
       "layout": "IPY_MODEL_f3eca99650fc45ca9447f1d22573803e",
       "style": "IPY_MODEL_0bced79c6f2346d882f7f8c97f313adb"
      }
     },
     "5229a1ac1b9447ebbdef65df7ddeb270": {
      "model_module": "jupyter-js-widgets",
      "model_module_version": "~2.1.4",
      "model_name": "LayoutModel",
      "state": {
       "_model_module_version": "~2.1.4",
       "_view_module_version": "~2.1.4"
      }
     },
     "527264248c3c4e3f9858d416609a1bde": {
      "model_module": "jupyter-js-widgets",
      "model_module_version": "~2.1.4",
      "model_name": "LayoutModel",
      "state": {
       "_model_module_version": "~2.1.4",
       "_view_module_version": "~2.1.4"
      }
     },
     "52760c5596a94308a8997b0ddeddaeac": {
      "model_module": "jupyter-js-widgets",
      "model_module_version": "~2.1.4",
      "model_name": "TextModel",
      "state": {
       "_model_module_version": "~2.1.4",
       "_view_module_version": "~2.1.4",
       "layout": "IPY_MODEL_1381af3447654d588dc3e2990102026d",
       "value": "Anang"
      }
     },
     "52d8582fea47496a8b5c9aad6bfe9630": {
      "model_module": "jupyter-js-widgets",
      "model_module_version": "~2.1.4",
      "model_name": "TextModel",
      "state": {
       "_model_module_version": "~2.1.4",
       "_view_module_version": "~2.1.4",
       "layout": "IPY_MODEL_50a0bac5073040e9892c556678d9f5dc",
       "value": "azazaz"
      }
     },
     "5340726ca54448bca69815366820524a": {
      "model_module": "jupyter-js-widgets",
      "model_module_version": "~2.1.4",
      "model_name": "LayoutModel",
      "state": {
       "_model_module_version": "~2.1.4",
       "_view_module_version": "~2.1.4"
      }
     },
     "541b5caf0e454a1d8a572e561369a0a7": {
      "model_module": "jupyter-js-widgets",
      "model_module_version": "~2.1.4",
      "model_name": "LayoutModel",
      "state": {
       "_model_module_version": "~2.1.4",
       "_view_module_version": "~2.1.4"
      }
     },
     "5485a6e4a6c94458ab85cc4e822b6b5a": {
      "model_module": "jupyter-js-widgets",
      "model_module_version": "~2.1.4",
      "model_name": "ButtonStyleModel",
      "state": {
       "_model_module_version": "~2.1.4",
       "_view_module_version": "~2.1.4"
      }
     },
     "56234964f70f4f80b8c90aa4049d6555": {
      "model_module": "jupyter-js-widgets",
      "model_module_version": "~2.1.4",
      "model_name": "HBoxModel",
      "state": {
       "_model_module_version": "~2.1.4",
       "_view_module_version": "~2.1.4",
       "children": [
        "IPY_MODEL_2828a31773c34b389959369474e9e30b",
        "IPY_MODEL_d1531ab5e8204e9baaea1044f400ce74"
       ],
       "layout": "IPY_MODEL_c7e737caa7254eefb65644b35a3ab4ed"
      }
     },
     "563076ded6ed49e99d1fb27ed243da5a": {
      "model_module": "jupyter-js-widgets",
      "model_module_version": "~2.1.4",
      "model_name": "LayoutModel",
      "state": {
       "_model_module_version": "~2.1.4",
       "_view_module_version": "~2.1.4"
      }
     },
     "56e9d0cd7c624acc99d177be8896fde9": {
      "model_module": "jupyter-js-widgets",
      "model_module_version": "~2.1.4",
      "model_name": "TextModel",
      "state": {
       "_model_module_version": "~2.1.4",
       "_view_module_version": "~2.1.4",
       "layout": "IPY_MODEL_f31e8391596449a1bda0e1df6c8fc9c8",
       "value": "SASAS"
      }
     },
     "57faa5c708e74f439179e24253c58073": {
      "model_module": "jupyter-js-widgets",
      "model_module_version": "~2.1.4",
      "model_name": "LayoutModel",
      "state": {
       "_model_module_version": "~2.1.4",
       "_view_module_version": "~2.1.4"
      }
     },
     "58414c10012941b2bbed0d69c5a420a9": {
      "model_module": "jupyter-js-widgets",
      "model_module_version": "~2.1.4",
      "model_name": "TextModel",
      "state": {
       "_model_module_version": "~2.1.4",
       "_view_module_version": "~2.1.4",
       "layout": "IPY_MODEL_c55d2bab336d4829a07fed065ab8f27a",
       "value": "1001120832"
      }
     },
     "590bbbacd74d4c14870223595594849e": {
      "model_module": "jupyter-js-widgets",
      "model_module_version": "~2.1.4",
      "model_name": "ButtonStyleModel",
      "state": {
       "_model_module_version": "~2.1.4",
       "_view_module_version": "~2.1.4"
      }
     },
     "5a74193b08b646639f3ef4bad0861dc4": {
      "model_module": "jupyter-js-widgets",
      "model_module_version": "~2.1.4",
      "model_name": "TextModel",
      "state": {
       "_model_module_version": "~2.1.4",
       "_view_module_version": "~2.1.4",
       "layout": "IPY_MODEL_3a935c49b1394ab5bf6d17ad0c5d5262",
       "value": "sasas"
      }
     },
     "5a826477f9774669ad7e299382f5c1d2": {
      "model_module": "jupyter-js-widgets",
      "model_module_version": "~2.1.4",
      "model_name": "TextModel",
      "state": {
       "_model_module_version": "~2.1.4",
       "_view_module_version": "~2.1.4",
       "layout": "IPY_MODEL_72ed0e94fcc445c1ac94c3173bb7d785",
       "value": "SASASA"
      }
     },
     "5bfe713e9ca643dca4651d123c96d0a0": {
      "model_module": "jupyter-js-widgets",
      "model_module_version": "~2.1.4",
      "model_name": "LayoutModel",
      "state": {
       "_model_module_version": "~2.1.4",
       "_view_module_version": "~2.1.4"
      }
     },
     "5c8d2eb735434c8cac00c8f625b75cd1": {
      "model_module": "jupyter-js-widgets",
      "model_module_version": "~2.1.4",
      "model_name": "ButtonModel",
      "state": {
       "_model_module_version": "~2.1.4",
       "_view_module_version": "~2.1.4",
       "description": "Submit!",
       "layout": "IPY_MODEL_a36849d4ac064df6a8ff9535fd0f83b3",
       "style": "IPY_MODEL_654c02e3097f493788a68a74f0e48d73"
      }
     },
     "5d6c3021c76d49d5801575fb0e96923a": {
      "model_module": "jupyter-js-widgets",
      "model_module_version": "~2.1.4",
      "model_name": "HBoxModel",
      "state": {
       "_model_module_version": "~2.1.4",
       "_view_module_version": "~2.1.4",
       "children": [
        "IPY_MODEL_0b5fa72181f145f2891b97b1c2f4ba81",
        "IPY_MODEL_58414c10012941b2bbed0d69c5a420a9"
       ],
       "layout": "IPY_MODEL_7a57ec1d59b24d33bf52967ecd5223b4"
      }
     },
     "5e71db7d6d5e4bfbb98d785943675885": {
      "model_module": "jupyter-js-widgets",
      "model_module_version": "~2.1.4",
      "model_name": "TextModel",
      "state": {
       "_model_module_version": "~2.1.4",
       "_view_module_version": "~2.1.4",
       "layout": "IPY_MODEL_030723dd2f284a1db74425672e6cc578",
       "value": "Anang"
      }
     },
     "5f782b7eafd04b95b808fd49f7987883": {
      "model_module": "jupyter-js-widgets",
      "model_module_version": "~2.1.4",
      "model_name": "ButtonStyleModel",
      "state": {
       "_model_module_version": "~2.1.4",
       "_view_module_version": "~2.1.4"
      }
     },
     "6148f7405afd4fc4a99da564519cb98a": {
      "model_module": "jupyter-js-widgets",
      "model_module_version": "~2.1.4",
      "model_name": "HBoxModel",
      "state": {
       "_model_module_version": "~2.1.4",
       "_view_module_version": "~2.1.4",
       "children": [
        "IPY_MODEL_302a6436690f4decb9e2c78ce27630b1",
        "IPY_MODEL_bbb40f3ce7b34e2cadf66a1e43d4a336"
       ],
       "layout": "IPY_MODEL_4efd518a5cdc4d8693ecce1c65bd017b"
      }
     },
     "618674bc82eb406391fb5dcc5ae9d64a": {
      "model_module": "jupyter-js-widgets",
      "model_module_version": "~2.1.4",
      "model_name": "HBoxModel",
      "state": {
       "_model_module_version": "~2.1.4",
       "_view_module_version": "~2.1.4",
       "children": [
        "IPY_MODEL_8c06cf71b92a43b186cc9dbcad04270e",
        "IPY_MODEL_52760c5596a94308a8997b0ddeddaeac"
       ],
       "layout": "IPY_MODEL_7059a99aab0c43629bd931f3795a73a5"
      }
     },
     "622655a5b7f7433fb291459e1c20cb2f": {
      "model_module": "jupyter-js-widgets",
      "model_module_version": "~2.1.4",
      "model_name": "TextModel",
      "state": {
       "_model_module_version": "~2.1.4",
       "_view_module_version": "~2.1.4",
       "layout": "IPY_MODEL_3589e480830543c6a3a33ed19716c5bb",
       "value": "sasa"
      }
     },
     "6283943f808c4e33b58d52c29debcb86": {
      "model_module": "jupyter-js-widgets",
      "model_module_version": "~2.1.4",
      "model_name": "HBoxModel",
      "state": {
       "_model_module_version": "~2.1.4",
       "_view_module_version": "~2.1.4",
       "children": [
        "IPY_MODEL_017d1d595e7f497686f695d6affa4eaa",
        "IPY_MODEL_e24546a495fb4d86b64c741c0794d180"
       ],
       "layout": "IPY_MODEL_c25236351926497bbf99df5f1a481e0c"
      }
     },
     "62b4a162dd1041eb984d52671a516f31": {
      "model_module": "jupyter-js-widgets",
      "model_module_version": "~2.1.4",
      "model_name": "LayoutModel",
      "state": {
       "_model_module_version": "~2.1.4",
       "_view_module_version": "~2.1.4"
      }
     },
     "63deac055e0a4105ac6ea610ded586e1": {
      "model_module": "jupyter-js-widgets",
      "model_module_version": "~2.1.4",
      "model_name": "LayoutModel",
      "state": {
       "_model_module_version": "~2.1.4",
       "_view_module_version": "~2.1.4"
      }
     },
     "645b4b84980342288a05612b6ec682ea": {
      "model_module": "jupyter-js-widgets",
      "model_module_version": "~2.1.4",
      "model_name": "LayoutModel",
      "state": {
       "_model_module_version": "~2.1.4",
       "_view_module_version": "~2.1.4"
      }
     },
     "654c02e3097f493788a68a74f0e48d73": {
      "model_module": "jupyter-js-widgets",
      "model_module_version": "~2.1.4",
      "model_name": "ButtonStyleModel",
      "state": {
       "_model_module_version": "~2.1.4",
       "_view_module_version": "~2.1.4"
      }
     },
     "66356f59298546a587432323c2348744": {
      "model_module": "jupyter-js-widgets",
      "model_module_version": "~2.1.4",
      "model_name": "TextModel",
      "state": {
       "_model_module_version": "~2.1.4",
       "_view_module_version": "~2.1.4",
       "layout": "IPY_MODEL_ba8735fc5053481c8411b54cf4aff45c",
       "value": "1001120832"
      }
     },
     "6739dab1b0364bfcb8d9a402110e17ff": {
      "model_module": "jupyter-js-widgets",
      "model_module_version": "~2.1.4",
      "model_name": "TextModel",
      "state": {
       "_model_module_version": "~2.1.4",
       "_view_module_version": "~2.1.4",
       "layout": "IPY_MODEL_d2aa62c2b9464dc58cf4fa832df2d6f5",
       "value": "sasa"
      }
     },
     "677209886c144200ad2d05d281f709b4": {
      "model_module": "jupyter-js-widgets",
      "model_module_version": "~2.1.4",
      "model_name": "ButtonStyleModel",
      "state": {
       "_model_module_version": "~2.1.4",
       "_view_module_version": "~2.1.4"
      }
     },
     "68220a2b06b2450fa3afb896fdf4869d": {
      "model_module": "jupyter-js-widgets",
      "model_module_version": "~2.1.4",
      "model_name": "LayoutModel",
      "state": {
       "_model_module_version": "~2.1.4",
       "_view_module_version": "~2.1.4"
      }
     },
     "6a329200589345698840706d30acf91d": {
      "model_module": "jupyter-js-widgets",
      "model_module_version": "~2.1.4",
      "model_name": "ButtonStyleModel",
      "state": {
       "_model_module_version": "~2.1.4",
       "_view_module_version": "~2.1.4"
      }
     },
     "6abd683019fe43838a069148eeffb4a6": {
      "model_module": "jupyter-js-widgets",
      "model_module_version": "~2.1.4",
      "model_name": "ButtonModel",
      "state": {
       "_model_module_version": "~2.1.4",
       "_view_module_version": "~2.1.4",
       "description": "Submit!",
       "layout": "IPY_MODEL_1e6dcfef96934ad798b7c2729f694e9e",
       "style": "IPY_MODEL_fa407e8c333f43d18afd2b10d2c9f674"
      }
     },
     "6af2bb7565074276bec1b7ece1a377d6": {
      "model_module": "jupyter-js-widgets",
      "model_module_version": "~2.1.4",
      "model_name": "LayoutModel",
      "state": {
       "_model_module_version": "~2.1.4",
       "_view_module_version": "~2.1.4"
      }
     },
     "6b1f153192734a8195a14c59fc0c4b13": {
      "model_module": "jupyter-js-widgets",
      "model_module_version": "~2.1.4",
      "model_name": "LayoutModel",
      "state": {
       "_model_module_version": "~2.1.4",
       "_view_module_version": "~2.1.4"
      }
     },
     "6b63809bc2424c5b9685761498a3355e": {
      "model_module": "jupyter-js-widgets",
      "model_module_version": "~2.1.4",
      "model_name": "TextModel",
      "state": {
       "_model_module_version": "~2.1.4",
       "_view_module_version": "~2.1.4",
       "layout": "IPY_MODEL_57faa5c708e74f439179e24253c58073",
       "value": "anang"
      }
     },
     "6b8f491c89094c80a096948e9d7f1f94": {
      "model_module": "jupyter-js-widgets",
      "model_module_version": "~2.1.4",
      "model_name": "ButtonStyleModel",
      "state": {
       "_model_module_version": "~2.1.4",
       "_view_module_version": "~2.1.4"
      }
     },
     "6b9b1396d6af4532b7af95d70279da84": {
      "model_module": "jupyter-js-widgets",
      "model_module_version": "~2.1.4",
      "model_name": "LayoutModel",
      "state": {
       "_model_module_version": "~2.1.4",
       "_view_module_version": "~2.1.4"
      }
     },
     "6bb08eabe3e944b0898837a338539701": {
      "model_module": "jupyter-js-widgets",
      "model_module_version": "~2.1.4",
      "model_name": "LayoutModel",
      "state": {
       "_model_module_version": "~2.1.4",
       "_view_module_version": "~2.1.4"
      }
     },
     "6bdca349299641cb8130886078eae107": {
      "model_module": "jupyter-js-widgets",
      "model_module_version": "~2.1.4",
      "model_name": "TextModel",
      "state": {
       "_model_module_version": "~2.1.4",
       "_view_module_version": "~2.1.4",
       "layout": "IPY_MODEL_aa018a4a8f7741fa8a5a2bf41bff0d0f",
       "value": "sasasasasa"
      }
     },
     "6c2bd12f549a49409f07c6d160baa6b2": {
      "model_module": "jupyter-js-widgets",
      "model_module_version": "~2.1.4",
      "model_name": "LayoutModel",
      "state": {
       "_model_module_version": "~2.1.4",
       "_view_module_version": "~2.1.4"
      }
     },
     "6c8a0cb875534467b4126cbce8d7d0c9": {
      "model_module": "jupyter-js-widgets",
      "model_module_version": "~2.1.4",
      "model_name": "LayoutModel",
      "state": {
       "_model_module_version": "~2.1.4",
       "_view_module_version": "~2.1.4"
      }
     },
     "6ccb1076a2144ba3b9ec774fa62a99ce": {
      "model_module": "jupyter-js-widgets",
      "model_module_version": "~2.1.4",
      "model_name": "TextModel",
      "state": {
       "_model_module_version": "~2.1.4",
       "_view_module_version": "~2.1.4",
       "layout": "IPY_MODEL_8805f09608b148aa8b44518baa6dba35",
       "value": "sasasa"
      }
     },
     "6cd662e324134cf48ca55f8bfd73ba4f": {
      "model_module": "jupyter-js-widgets",
      "model_module_version": "~2.1.4",
      "model_name": "LayoutModel",
      "state": {
       "_model_module_version": "~2.1.4",
       "_view_module_version": "~2.1.4"
      }
     },
     "6f40278d160e4ffc90dfbdd4ccfd965e": {
      "model_module": "jupyter-js-widgets",
      "model_module_version": "~2.1.4",
      "model_name": "LayoutModel",
      "state": {
       "_model_module_version": "~2.1.4",
       "_view_module_version": "~2.1.4"
      }
     },
     "6f40ad370e5c4701a6c8e55da3bcee0c": {
      "model_module": "jupyter-js-widgets",
      "model_module_version": "~2.1.4",
      "model_name": "ButtonStyleModel",
      "state": {
       "_model_module_version": "~2.1.4",
       "_view_module_version": "~2.1.4"
      }
     },
     "7059a99aab0c43629bd931f3795a73a5": {
      "model_module": "jupyter-js-widgets",
      "model_module_version": "~2.1.4",
      "model_name": "LayoutModel",
      "state": {
       "_model_module_version": "~2.1.4",
       "_view_module_version": "~2.1.4"
      }
     },
     "7080cf0986dd4c3ea95ab97ec8709108": {
      "model_module": "jupyter-js-widgets",
      "model_module_version": "~2.1.4",
      "model_name": "ButtonStyleModel",
      "state": {
       "_model_module_version": "~2.1.4",
       "_view_module_version": "~2.1.4"
      }
     },
     "72c7326463c84907911bbae8235eac6d": {
      "model_module": "jupyter-js-widgets",
      "model_module_version": "~2.1.4",
      "model_name": "TextModel",
      "state": {
       "_model_module_version": "~2.1.4",
       "_view_module_version": "~2.1.4",
       "layout": "IPY_MODEL_62b4a162dd1041eb984d52671a516f31",
       "value": "sasaa"
      }
     },
     "72ed0e94fcc445c1ac94c3173bb7d785": {
      "model_module": "jupyter-js-widgets",
      "model_module_version": "~2.1.4",
      "model_name": "LayoutModel",
      "state": {
       "_model_module_version": "~2.1.4",
       "_view_module_version": "~2.1.4"
      }
     },
     "73307f25487c4d87bd2f055afc1b6f60": {
      "model_module": "jupyter-js-widgets",
      "model_module_version": "~2.1.4",
      "model_name": "TextModel",
      "state": {
       "_model_module_version": "~2.1.4",
       "_view_module_version": "~2.1.4",
       "layout": "IPY_MODEL_20a9c9deae724a53a5d6a60cc3e5bfeb",
       "value": "AZAZAZ"
      }
     },
     "74cff9783e31425a9ff4d861b3791968": {
      "model_module": "jupyter-js-widgets",
      "model_module_version": "~2.1.4",
      "model_name": "LayoutModel",
      "state": {
       "_model_module_version": "~2.1.4",
       "_view_module_version": "~2.1.4"
      }
     },
     "74f1fd584ccb41dea606527077d281a7": {
      "model_module": "jupyter-js-widgets",
      "model_module_version": "~2.1.4",
      "model_name": "ButtonStyleModel",
      "state": {
       "_model_module_version": "~2.1.4",
       "_view_module_version": "~2.1.4"
      }
     },
     "7631356481cd43c5ba7fc707e581f35c": {
      "model_module": "jupyter-js-widgets",
      "model_module_version": "~2.1.4",
      "model_name": "LayoutModel",
      "state": {
       "_model_module_version": "~2.1.4",
       "_view_module_version": "~2.1.4"
      }
     },
     "76670b12a7264a318a1e7c412aea649c": {
      "model_module": "jupyter-js-widgets",
      "model_module_version": "~2.1.4",
      "model_name": "TextModel",
      "state": {
       "_model_module_version": "~2.1.4",
       "_view_module_version": "~2.1.4",
       "layout": "IPY_MODEL_527264248c3c4e3f9858d416609a1bde",
       "value": "DEDEDE"
      }
     },
     "7859ca15049148a6ba6ee5cd6d751143": {
      "model_module": "jupyter-js-widgets",
      "model_module_version": "~2.1.4",
      "model_name": "ButtonStyleModel",
      "state": {
       "_model_module_version": "~2.1.4",
       "_view_module_version": "~2.1.4"
      }
     },
     "7875883920124f1a93913527d698d8b6": {
      "model_module": "jupyter-js-widgets",
      "model_module_version": "~2.1.4",
      "model_name": "TextModel",
      "state": {
       "_model_module_version": "~2.1.4",
       "_view_module_version": "~2.1.4",
       "layout": "IPY_MODEL_ac89abd2594d46a49c367c56aa490302",
       "value": "1001120832"
      }
     },
     "78d6b2280ec24a68a1281646502579dc": {
      "model_module": "jupyter-js-widgets",
      "model_module_version": "~2.1.4",
      "model_name": "HBoxModel",
      "state": {
       "_model_module_version": "~2.1.4",
       "_view_module_version": "~2.1.4",
       "children": [
        "IPY_MODEL_8cb3eee5ede14af1b8130f72077f9623",
        "IPY_MODEL_49c2b4eac0a74152b293ff89db64ccd9"
       ],
       "layout": "IPY_MODEL_f36d3695ed27490f9194e0325a6428cb"
      }
     },
     "78e425907b3d44ee8ed94547efeede26": {
      "model_module": "jupyter-js-widgets",
      "model_module_version": "~2.1.4",
      "model_name": "TextModel",
      "state": {
       "_model_module_version": "~2.1.4",
       "_view_module_version": "~2.1.4",
       "layout": "IPY_MODEL_86c06934c4654b289d2bc80e7bfbc9bc"
      }
     },
     "79f192b5ec9f4c6abe4992a2447fde4a": {
      "model_module": "jupyter-js-widgets",
      "model_module_version": "~2.1.4",
      "model_name": "ButtonStyleModel",
      "state": {
       "_model_module_version": "~2.1.4",
       "_view_module_version": "~2.1.4"
      }
     },
     "7a57ec1d59b24d33bf52967ecd5223b4": {
      "model_module": "jupyter-js-widgets",
      "model_module_version": "~2.1.4",
      "model_name": "LayoutModel",
      "state": {
       "_model_module_version": "~2.1.4",
       "_view_module_version": "~2.1.4"
      }
     },
     "7aaca2ba9e4f4233ba9a6aad2fd99e28": {
      "model_module": "jupyter-js-widgets",
      "model_module_version": "~2.1.4",
      "model_name": "HBoxModel",
      "state": {
       "_model_module_version": "~2.1.4",
       "_view_module_version": "~2.1.4",
       "children": [
        "IPY_MODEL_2828a31773c34b389959369474e9e30b",
        "IPY_MODEL_d1531ab5e8204e9baaea1044f400ce74"
       ],
       "layout": "IPY_MODEL_6cd662e324134cf48ca55f8bfd73ba4f"
      }
     },
     "7b12364151984cf39401913643eceaef": {
      "model_module": "jupyter-js-widgets",
      "model_module_version": "~2.1.4",
      "model_name": "ButtonModel",
      "state": {
       "_model_module_version": "~2.1.4",
       "_view_module_version": "~2.1.4",
       "description": "Submit!",
       "layout": "IPY_MODEL_8866f0adb8bf46a8b47e9110e9145441",
       "style": "IPY_MODEL_49b6194ccccc4e6f983ff9c1fcf93529"
      }
     },
     "7b1d93c592be4f738478a0b43ddf81a9": {
      "model_module": "jupyter-js-widgets",
      "model_module_version": "~2.1.4",
      "model_name": "LayoutModel",
      "state": {
       "_model_module_version": "~2.1.4",
       "_view_module_version": "~2.1.4"
      }
     },
     "7b72f1f76db640709e4acf58ff8ae959": {
      "model_module": "jupyter-js-widgets",
      "model_module_version": "~2.1.4",
      "model_name": "TextModel",
      "state": {
       "_model_module_version": "~2.1.4",
       "_view_module_version": "~2.1.4",
       "layout": "IPY_MODEL_00476ab5cd4340ad80ec24cc437332e8",
       "value": "SASAA"
      }
     },
     "7cbb48b96bb141259d61cad3775a08f9": {
      "model_module": "jupyter-js-widgets",
      "model_module_version": "~2.1.4",
      "model_name": "HBoxModel",
      "state": {
       "_model_module_version": "~2.1.4",
       "_view_module_version": "~2.1.4",
       "children": [
        "IPY_MODEL_c013d1fa0aa7433e9181349e028cf991",
        "IPY_MODEL_06a9f5e0a55b42b59c4177ab9233f378"
       ],
       "layout": "IPY_MODEL_74cff9783e31425a9ff4d861b3791968"
      }
     },
     "7f4aafc293924f568296b7e5d2107774": {
      "model_module": "jupyter-js-widgets",
      "model_module_version": "~2.1.4",
      "model_name": "LayoutModel",
      "state": {
       "_model_module_version": "~2.1.4",
       "_view_module_version": "~2.1.4"
      }
     },
     "8127826839804a28b2280ba2241af166": {
      "model_module": "jupyter-js-widgets",
      "model_module_version": "~2.1.4",
      "model_name": "TextModel",
      "state": {
       "_model_module_version": "~2.1.4",
       "_view_module_version": "~2.1.4",
       "layout": "IPY_MODEL_d107580c7d4746229befcbb76750ebbd",
       "value": "anang"
      }
     },
     "813f91a3a53745a19a63238dab039e96": {
      "model_module": "jupyter-js-widgets",
      "model_module_version": "~2.1.4",
      "model_name": "HBoxModel",
      "state": {
       "_model_module_version": "~2.1.4",
       "_view_module_version": "~2.1.4",
       "children": [
        "IPY_MODEL_40f8f6bd3f1b4b90ae050b4ee75a023b",
        "IPY_MODEL_dc13b757757f4cd7a5e3392f40a55c83"
       ],
       "layout": "IPY_MODEL_02fda1884bf544bda82c36a32f2e51f7"
      }
     },
     "820dd6ec1db341c0bb299b8ea1156cba": {
      "model_module": "jupyter-js-widgets",
      "model_module_version": "~2.1.4",
      "model_name": "TextModel",
      "state": {
       "_model_module_version": "~2.1.4",
       "_view_module_version": "~2.1.4",
       "layout": "IPY_MODEL_f7a34d803c2d44e4bcb8b462fab8a683",
       "value": "anang"
      }
     },
     "82bad262e7a549fba597c7fd5a3c203a": {
      "model_module": "jupyter-js-widgets",
      "model_module_version": "~2.1.4",
      "model_name": "LayoutModel",
      "state": {
       "_model_module_version": "~2.1.4",
       "_view_module_version": "~2.1.4"
      }
     },
     "82fdb947356c46bb92d7662b7cc0deed": {
      "model_module": "jupyter-js-widgets",
      "model_module_version": "~2.1.4",
      "model_name": "LayoutModel",
      "state": {
       "_model_module_version": "~2.1.4",
       "_view_module_version": "~2.1.4"
      }
     },
     "83bd806ad3004cd3a7820e4fd0973aa7": {
      "model_module": "jupyter-js-widgets",
      "model_module_version": "~2.1.4",
      "model_name": "LayoutModel",
      "state": {
       "_model_module_version": "~2.1.4",
       "_view_module_version": "~2.1.4"
      }
     },
     "8483bb2c9fe44953a23ddf72d8326422": {
      "model_module": "jupyter-js-widgets",
      "model_module_version": "~2.1.4",
      "model_name": "ButtonModel",
      "state": {
       "_model_module_version": "~2.1.4",
       "_view_module_version": "~2.1.4",
       "description": "Submit!",
       "layout": "IPY_MODEL_3add9ea24ae344c58e5d7fed1b5031fa",
       "style": "IPY_MODEL_47e547b3669c46f7a4c9327d4f476376"
      }
     },
     "8484adb891ed4c2b83733a6b2a33c216": {
      "model_module": "jupyter-js-widgets",
      "model_module_version": "~2.1.4",
      "model_name": "LayoutModel",
      "state": {
       "_model_module_version": "~2.1.4",
       "_view_module_version": "~2.1.4"
      }
     },
     "84cce713fff64bb2a0a7bb432643f14a": {
      "model_module": "jupyter-js-widgets",
      "model_module_version": "~2.1.4",
      "model_name": "ButtonModel",
      "state": {
       "_model_module_version": "~2.1.4",
       "_view_module_version": "~2.1.4",
       "description": "Submit!",
       "layout": "IPY_MODEL_6af2bb7565074276bec1b7ece1a377d6",
       "style": "IPY_MODEL_a1db99b293504625a4ffa3195048e0cc"
      }
     },
     "856c35d9b4e442369d025dde40ea0730": {
      "model_module": "jupyter-js-widgets",
      "model_module_version": "~2.1.4",
      "model_name": "LayoutModel",
      "state": {
       "_model_module_version": "~2.1.4",
       "_view_module_version": "~2.1.4"
      }
     },
     "85a281b14ec04a0fa513d282d92bc0a9": {
      "model_module": "jupyter-js-widgets",
      "model_module_version": "~2.1.4",
      "model_name": "ButtonModel",
      "state": {
       "_model_module_version": "~2.1.4",
       "_view_module_version": "~2.1.4",
       "description": "Submit!",
       "layout": "IPY_MODEL_e37b97a83a704f85985087ef69d5e3bb",
       "style": "IPY_MODEL_4218512c681948cca65dee5d7d652cc7"
      }
     },
     "85c1db38870d435ca66dac2e9d896f24": {
      "model_module": "jupyter-js-widgets",
      "model_module_version": "~2.1.4",
      "model_name": "LayoutModel",
      "state": {
       "_model_module_version": "~2.1.4",
       "_view_module_version": "~2.1.4"
      }
     },
     "85ca0176f681448caf9c52df2f0902e4": {
      "model_module": "jupyter-js-widgets",
      "model_module_version": "~2.1.4",
      "model_name": "LayoutModel",
      "state": {
       "_model_module_version": "~2.1.4",
       "_view_module_version": "~2.1.4"
      }
     },
     "86c06934c4654b289d2bc80e7bfbc9bc": {
      "model_module": "jupyter-js-widgets",
      "model_module_version": "~2.1.4",
      "model_name": "LayoutModel",
      "state": {
       "_model_module_version": "~2.1.4",
       "_view_module_version": "~2.1.4"
      }
     },
     "8805f09608b148aa8b44518baa6dba35": {
      "model_module": "jupyter-js-widgets",
      "model_module_version": "~2.1.4",
      "model_name": "LayoutModel",
      "state": {
       "_model_module_version": "~2.1.4",
       "_view_module_version": "~2.1.4"
      }
     },
     "884d5dd822b7496f941e53521062504a": {
      "model_module": "jupyter-js-widgets",
      "model_module_version": "~2.1.4",
      "model_name": "HBoxModel",
      "state": {
       "_model_module_version": "~2.1.4",
       "_view_module_version": "~2.1.4",
       "children": [
        "IPY_MODEL_8c06cf71b92a43b186cc9dbcad04270e",
        "IPY_MODEL_52760c5596a94308a8997b0ddeddaeac"
       ],
       "layout": "IPY_MODEL_c4205d0fa0b34a469d5ddda5e143bb40"
      }
     },
     "8866f0adb8bf46a8b47e9110e9145441": {
      "model_module": "jupyter-js-widgets",
      "model_module_version": "~2.1.4",
      "model_name": "LayoutModel",
      "state": {
       "_model_module_version": "~2.1.4",
       "_view_module_version": "~2.1.4"
      }
     },
     "8c06cf71b92a43b186cc9dbcad04270e": {
      "model_module": "jupyter-js-widgets",
      "model_module_version": "~2.1.4",
      "model_name": "LabelModel",
      "state": {
       "_model_module_version": "~2.1.4",
       "_view_module_version": "~2.1.4",
       "layout": "IPY_MODEL_a071f4a8705b4cccb6566fe8b52cdb20",
       "value": "Name"
      }
     },
     "8c3c521d0cee454f9474cd6cd54a1f58": {
      "model_module": "jupyter-js-widgets",
      "model_module_version": "~2.1.4",
      "model_name": "LayoutModel",
      "state": {
       "_model_module_version": "~2.1.4",
       "_view_module_version": "~2.1.4"
      }
     },
     "8ca735e3681b45baa9d571efc20e9ab3": {
      "model_module": "jupyter-js-widgets",
      "model_module_version": "~2.1.4",
      "model_name": "TextModel",
      "state": {
       "_model_module_version": "~2.1.4",
       "_view_module_version": "~2.1.4",
       "layout": "IPY_MODEL_7f4aafc293924f568296b7e5d2107774",
       "value": "SASASA"
      }
     },
     "8cb3eee5ede14af1b8130f72077f9623": {
      "model_module": "jupyter-js-widgets",
      "model_module_version": "~2.1.4",
      "model_name": "LabelModel",
      "state": {
       "_model_module_version": "~2.1.4",
       "_view_module_version": "~2.1.4",
       "layout": "IPY_MODEL_08ebb79460a6406fbfd4cb71071aeca8",
       "value": "Student ID"
      }
     },
     "9098e39424f04bddaa133278ed387e7c": {
      "model_module": "jupyter-js-widgets",
      "model_module_version": "~2.1.4",
      "model_name": "TextModel",
      "state": {
       "_model_module_version": "~2.1.4",
       "_view_module_version": "~2.1.4",
       "layout": "IPY_MODEL_8484adb891ed4c2b83733a6b2a33c216",
       "value": "SESESE"
      }
     },
     "924f8a5e525f432f8eb631f9b9d669c2": {
      "model_module": "jupyter-js-widgets",
      "model_module_version": "~2.1.4",
      "model_name": "LayoutModel",
      "state": {
       "_model_module_version": "~2.1.4",
       "_view_module_version": "~2.1.4"
      }
     },
     "96ee65b1db7c40b8bd231a0a9b9a1d7a": {
      "model_module": "jupyter-js-widgets",
      "model_module_version": "~2.1.4",
      "model_name": "HBoxModel",
      "state": {
       "_model_module_version": "~2.1.4",
       "_view_module_version": "~2.1.4",
       "children": [
        "IPY_MODEL_9c7859c1fdd84031a8277915845c844c",
        "IPY_MODEL_43894299c2b64d8f90114d89cd0af807"
       ],
       "layout": "IPY_MODEL_2e52924235704dc3a3fdbfbb4404526a"
      }
     },
     "9761dcf4611c497b91357b9b3b6e9336": {
      "model_module": "jupyter-js-widgets",
      "model_module_version": "~2.1.4",
      "model_name": "TextModel",
      "state": {
       "_model_module_version": "~2.1.4",
       "_view_module_version": "~2.1.4",
       "layout": "IPY_MODEL_5229a1ac1b9447ebbdef65df7ddeb270",
       "value": "sasasa"
      }
     },
     "978d9fcae5f647fe97ace959cdc1e9c7": {
      "model_module": "jupyter-js-widgets",
      "model_module_version": "~2.1.4",
      "model_name": "ButtonModel",
      "state": {
       "_model_module_version": "~2.1.4",
       "_view_module_version": "~2.1.4",
       "description": "Submit!",
       "layout": "IPY_MODEL_d0ce68cd1a7441a9b055ade3939eb629",
       "style": "IPY_MODEL_b48a561c8e8d4bf19ceab6e0f581f50a"
      }
     },
     "97ea3e8c657a4d5d84740702bdd0b5e8": {
      "model_module": "jupyter-js-widgets",
      "model_module_version": "~2.1.4",
      "model_name": "LayoutModel",
      "state": {
       "_model_module_version": "~2.1.4",
       "_view_module_version": "~2.1.4"
      }
     },
     "98308b90cd564081b923b77b05e4f6f4": {
      "model_module": "jupyter-js-widgets",
      "model_module_version": "~2.1.4",
      "model_name": "ButtonModel",
      "state": {
       "_model_module_version": "~2.1.4",
       "_view_module_version": "~2.1.4",
       "description": "Submit!",
       "layout": "IPY_MODEL_dca89c5a838b4d74a8658b020b1f6d50",
       "style": "IPY_MODEL_6a329200589345698840706d30acf91d"
      }
     },
     "98686c93563f4b7c8cdc76f947923eb0": {
      "model_module": "jupyter-js-widgets",
      "model_module_version": "~2.1.4",
      "model_name": "LayoutModel",
      "state": {
       "_model_module_version": "~2.1.4",
       "_view_module_version": "~2.1.4"
      }
     },
     "99586f77bba842f8bbd8244cefecc5d5": {
      "model_module": "jupyter-js-widgets",
      "model_module_version": "~2.1.4",
      "model_name": "TextModel",
      "state": {
       "_model_module_version": "~2.1.4",
       "_view_module_version": "~2.1.4",
       "layout": "IPY_MODEL_97ea3e8c657a4d5d84740702bdd0b5e8",
       "value": "HELLO ANANG"
      }
     },
     "99a36ac5f3334cc7b24c73f8ac6f7959": {
      "model_module": "jupyter-js-widgets",
      "model_module_version": "~2.1.4",
      "model_name": "LayoutModel",
      "state": {
       "_model_module_version": "~2.1.4",
       "_view_module_version": "~2.1.4"
      }
     },
     "9b65adb6e91e41d3895197f74bcc6572": {
      "model_module": "jupyter-js-widgets",
      "model_module_version": "~2.1.4",
      "model_name": "LayoutModel",
      "state": {
       "_model_module_version": "~2.1.4",
       "_view_module_version": "~2.1.4"
      }
     },
     "9b6acf6ea4c94b6c803adb8ca1471ec2": {
      "model_module": "jupyter-js-widgets",
      "model_module_version": "~2.1.4",
      "model_name": "ButtonModel",
      "state": {
       "_model_module_version": "~2.1.4",
       "_view_module_version": "~2.1.4",
       "description": "Submit!",
       "layout": "IPY_MODEL_2c43b5bd9adf4535b58c352a89f36543",
       "style": "IPY_MODEL_bb161412cbca41c1b575f8451f2d4ad9"
      }
     },
     "9c4f0a1bbf784f8097889246c0413a6a": {
      "model_module": "jupyter-js-widgets",
      "model_module_version": "~2.1.4",
      "model_name": "LabelModel",
      "state": {
       "_model_module_version": "~2.1.4",
       "_view_module_version": "~2.1.4",
       "layout": "IPY_MODEL_1b7d917e674e453e9ce44eb9cf8986d7",
       "value": "Student ID"
      }
     },
     "9c7859c1fdd84031a8277915845c844c": {
      "model_module": "jupyter-js-widgets",
      "model_module_version": "~2.1.4",
      "model_name": "LabelModel",
      "state": {
       "_model_module_version": "~2.1.4",
       "_view_module_version": "~2.1.4",
       "layout": "IPY_MODEL_125c1df97a2f43b29a5f44c120310828",
       "value": "Name"
      }
     },
     "9dceda9f774b49ccb1a9d5009fee4e53": {
      "model_module": "jupyter-js-widgets",
      "model_module_version": "~2.1.4",
      "model_name": "TextModel",
      "state": {
       "_model_module_version": "~2.1.4",
       "_view_module_version": "~2.1.4",
       "layout": "IPY_MODEL_6c2bd12f549a49409f07c6d160baa6b2",
       "value": "ANANG"
      }
     },
     "9e38a3d18e774747ad370b34e433d6c9": {
      "model_module": "jupyter-js-widgets",
      "model_module_version": "~2.1.4",
      "model_name": "HBoxModel",
      "state": {
       "_model_module_version": "~2.1.4",
       "_view_module_version": "~2.1.4",
       "children": [
        "IPY_MODEL_189c40dc8eb549a4a81084ca4aaadfeb",
        "IPY_MODEL_66356f59298546a587432323c2348744"
       ],
       "layout": "IPY_MODEL_d53c0981df0b463a8fa6a99ea4ea9483"
      }
     },
     "9ebd0b3f429a477ca79a94a08190dabc": {
      "model_module": "jupyter-js-widgets",
      "model_module_version": "~2.1.4",
      "model_name": "LayoutModel",
      "state": {
       "_model_module_version": "~2.1.4",
       "_view_module_version": "~2.1.4"
      }
     },
     "9f524b5ee1334f459d9bc272284f3b15": {
      "model_module": "jupyter-js-widgets",
      "model_module_version": "~2.1.4",
      "model_name": "ButtonStyleModel",
      "state": {
       "_model_module_version": "~2.1.4",
       "_view_module_version": "~2.1.4"
      }
     },
     "a038e21bf25742739fd2d387542df7f0": {
      "model_module": "jupyter-js-widgets",
      "model_module_version": "~2.1.4",
      "model_name": "LayoutModel",
      "state": {
       "_model_module_version": "~2.1.4",
       "_view_module_version": "~2.1.4"
      }
     },
     "a04418053dc644c6908e994f43d618c6": {
      "model_module": "jupyter-js-widgets",
      "model_module_version": "~2.1.4",
      "model_name": "ButtonModel",
      "state": {
       "_model_module_version": "~2.1.4",
       "_view_module_version": "~2.1.4",
       "description": "Submit!",
       "layout": "IPY_MODEL_320ad2c787574d20b1d772fd2d9ed3f2",
       "style": "IPY_MODEL_fa7777f9b02849828121cd7d286f53e6"
      }
     },
     "a071f4a8705b4cccb6566fe8b52cdb20": {
      "model_module": "jupyter-js-widgets",
      "model_module_version": "~2.1.4",
      "model_name": "LayoutModel",
      "state": {
       "_model_module_version": "~2.1.4",
       "_view_module_version": "~2.1.4"
      }
     },
     "a1db99b293504625a4ffa3195048e0cc": {
      "model_module": "jupyter-js-widgets",
      "model_module_version": "~2.1.4",
      "model_name": "ButtonStyleModel",
      "state": {
       "_model_module_version": "~2.1.4",
       "_view_module_version": "~2.1.4"
      }
     },
     "a2a356f7cb584380bb2595a07258a0a7": {
      "model_module": "jupyter-js-widgets",
      "model_module_version": "~2.1.4",
      "model_name": "TextModel",
      "state": {
       "_model_module_version": "~2.1.4",
       "_view_module_version": "~2.1.4",
       "layout": "IPY_MODEL_39aa3f81c39f40e1b632fd94d1aafc59",
       "value": "sasasa"
      }
     },
     "a310bf09e20d42e48fdf91841d3a9fbe": {
      "model_module": "jupyter-js-widgets",
      "model_module_version": "~2.1.4",
      "model_name": "ButtonModel",
      "state": {
       "_model_module_version": "~2.1.4",
       "_view_module_version": "~2.1.4",
       "description": "Submit!",
       "layout": "IPY_MODEL_a6b858f9fc53459a8773c254747b9c1b",
       "style": "IPY_MODEL_d4d9eb85d17340bba51f8fa031399b9a"
      }
     },
     "a36849d4ac064df6a8ff9535fd0f83b3": {
      "model_module": "jupyter-js-widgets",
      "model_module_version": "~2.1.4",
      "model_name": "LayoutModel",
      "state": {
       "_model_module_version": "~2.1.4",
       "_view_module_version": "~2.1.4"
      }
     },
     "a5f18b24a9054bddae837f9926e9aa97": {
      "model_module": "jupyter-js-widgets",
      "model_module_version": "~2.1.4",
      "model_name": "LayoutModel",
      "state": {
       "_model_module_version": "~2.1.4",
       "_view_module_version": "~2.1.4"
      }
     },
     "a610e4af67c643f5b2d60934d5dcdd7e": {
      "model_module": "jupyter-js-widgets",
      "model_module_version": "~2.1.4",
      "model_name": "HBoxModel",
      "state": {
       "_model_module_version": "~2.1.4",
       "_view_module_version": "~2.1.4",
       "children": [
        "IPY_MODEL_b69a5964f364404b83d8f18e78695b67",
        "IPY_MODEL_40879cf518e148d58f5a900faf850dd4"
       ],
       "layout": "IPY_MODEL_bab74ad3df674ce094b7f8ec5c7ba189"
      }
     },
     "a695811d85b44f6c94c1286cfac48647": {
      "model_module": "jupyter-js-widgets",
      "model_module_version": "~2.1.4",
      "model_name": "VBoxModel",
      "state": {
       "_model_module_version": "~2.1.4",
       "_view_module_version": "~2.1.4",
       "children": [
        "IPY_MODEL_96ee65b1db7c40b8bd231a0a9b9a1d7a",
        "IPY_MODEL_3f9fe45bd4394c05909dfa6d8453562b"
       ],
       "layout": "IPY_MODEL_d9b5c6c6ec534dbaa3c14d51dcced5fc"
      }
     },
     "a6b858f9fc53459a8773c254747b9c1b": {
      "model_module": "jupyter-js-widgets",
      "model_module_version": "~2.1.4",
      "model_name": "LayoutModel",
      "state": {
       "_model_module_version": "~2.1.4",
       "_view_module_version": "~2.1.4"
      }
     },
     "a6faeda4c7424dde8ae5036cfc47401c": {
      "model_module": "jupyter-js-widgets",
      "model_module_version": "~2.1.4",
      "model_name": "LayoutModel",
      "state": {
       "_model_module_version": "~2.1.4",
       "_view_module_version": "~2.1.4"
      }
     },
     "a948d8f538f241ba9a44997acf69b2e5": {
      "model_module": "jupyter-js-widgets",
      "model_module_version": "~2.1.4",
      "model_name": "ButtonModel",
      "state": {
       "_model_module_version": "~2.1.4",
       "_view_module_version": "~2.1.4",
       "description": "Submit!",
       "layout": "IPY_MODEL_fec29f5ada4d4bd4a32e33137df9f25b",
       "style": "IPY_MODEL_c694d6b673154558ad8aa98c452d6eb3"
      }
     },
     "aa018a4a8f7741fa8a5a2bf41bff0d0f": {
      "model_module": "jupyter-js-widgets",
      "model_module_version": "~2.1.4",
      "model_name": "LayoutModel",
      "state": {
       "_model_module_version": "~2.1.4",
       "_view_module_version": "~2.1.4"
      }
     },
     "abcd7d3266144050995ae4351497ec11": {
      "model_module": "jupyter-js-widgets",
      "model_module_version": "~2.1.4",
      "model_name": "VBoxModel",
      "state": {
       "_model_module_version": "~2.1.4",
       "_view_module_version": "~2.1.4",
       "children": [
        "IPY_MODEL_813f91a3a53745a19a63238dab039e96",
        "IPY_MODEL_6148f7405afd4fc4a99da564519cb98a"
       ],
       "layout": "IPY_MODEL_ff87ffc1082347fc9b7750a0b0fa87f0"
      }
     },
     "ac47f8a5bd774acd8d9cd1048ef74b03": {
      "model_module": "jupyter-js-widgets",
      "model_module_version": "~2.1.4",
      "model_name": "TextModel",
      "state": {
       "_model_module_version": "~2.1.4",
       "_view_module_version": "~2.1.4",
       "layout": "IPY_MODEL_1410aaf3642d4f6e99636030d0bffc98",
       "value": "bsbsbs"
      }
     },
     "ac89abd2594d46a49c367c56aa490302": {
      "model_module": "jupyter-js-widgets",
      "model_module_version": "~2.1.4",
      "model_name": "LayoutModel",
      "state": {
       "_model_module_version": "~2.1.4",
       "_view_module_version": "~2.1.4"
      }
     },
     "ad8763fc156e4dd2a8d9fed4aac80baa": {
      "model_module": "jupyter-js-widgets",
      "model_module_version": "~2.1.4",
      "model_name": "LayoutModel",
      "state": {
       "_model_module_version": "~2.1.4",
       "_view_module_version": "~2.1.4"
      }
     },
     "af455eaec3a841a59d380d8099b38305": {
      "model_module": "jupyter-js-widgets",
      "model_module_version": "~2.1.4",
      "model_name": "LayoutModel",
      "state": {
       "_model_module_version": "~2.1.4",
       "_view_module_version": "~2.1.4"
      }
     },
     "b05cf63d56ed4c1391c3810cf78df000": {
      "model_module": "jupyter-js-widgets",
      "model_module_version": "~2.1.4",
      "model_name": "LayoutModel",
      "state": {
       "_model_module_version": "~2.1.4",
       "_view_module_version": "~2.1.4"
      }
     },
     "b214f7b2ad9643c182116ce39bb06cb8": {
      "model_module": "jupyter-js-widgets",
      "model_module_version": "~2.1.4",
      "model_name": "TextModel",
      "state": {
       "_model_module_version": "~2.1.4",
       "_view_module_version": "~2.1.4",
       "layout": "IPY_MODEL_9ebd0b3f429a477ca79a94a08190dabc",
       "value": "sasas"
      }
     },
     "b24a0ff5c439455ab8af82e44fde1a21": {
      "model_module": "jupyter-js-widgets",
      "model_module_version": "~2.1.4",
      "model_name": "ButtonModel",
      "state": {
       "_model_module_version": "~2.1.4",
       "_view_module_version": "~2.1.4",
       "description": "Submit!",
       "layout": "IPY_MODEL_6bb08eabe3e944b0898837a338539701",
       "style": "IPY_MODEL_79f192b5ec9f4c6abe4992a2447fde4a"
      }
     },
     "b38ab6e8612b4acd8ee73df10259b630": {
      "model_module": "jupyter-js-widgets",
      "model_module_version": "~2.1.4",
      "model_name": "ButtonModel",
      "state": {
       "_model_module_version": "~2.1.4",
       "_view_module_version": "~2.1.4",
       "description": "Submit!",
       "layout": "IPY_MODEL_39141f2845ec4d5ba3311be52d0f3777",
       "style": "IPY_MODEL_6f40ad370e5c4701a6c8e55da3bcee0c"
      }
     },
     "b420883040ef482aa6db91a38b26000a": {
      "model_module": "jupyter-js-widgets",
      "model_module_version": "~2.1.4",
      "model_name": "LayoutModel",
      "state": {
       "_model_module_version": "~2.1.4",
       "_view_module_version": "~2.1.4"
      }
     },
     "b48a561c8e8d4bf19ceab6e0f581f50a": {
      "model_module": "jupyter-js-widgets",
      "model_module_version": "~2.1.4",
      "model_name": "ButtonStyleModel",
      "state": {
       "_model_module_version": "~2.1.4",
       "_view_module_version": "~2.1.4"
      }
     },
     "b4bacb00beaf4f4e89179284a0dd4acd": {
      "model_module": "jupyter-js-widgets",
      "model_module_version": "~2.1.4",
      "model_name": "LayoutModel",
      "state": {
       "_model_module_version": "~2.1.4",
       "_view_module_version": "~2.1.4"
      }
     },
     "b69a5964f364404b83d8f18e78695b67": {
      "model_module": "jupyter-js-widgets",
      "model_module_version": "~2.1.4",
      "model_name": "LabelModel",
      "state": {
       "_model_module_version": "~2.1.4",
       "_view_module_version": "~2.1.4",
       "layout": "IPY_MODEL_de8eacfebaf04735b10ac0eefa5c1cfc",
       "value": "Student ID"
      }
     },
     "b7ac7dbc366c4a079a67c95ec060104b": {
      "model_module": "jupyter-js-widgets",
      "model_module_version": "~2.1.4",
      "model_name": "TextModel",
      "state": {
       "_model_module_version": "~2.1.4",
       "_view_module_version": "~2.1.4",
       "layout": "IPY_MODEL_c8bb0aebb87d4904854477c686d94836",
       "value": "SASASA"
      }
     },
     "b8baad9253014c148c85cd8be1f4afac": {
      "model_module": "jupyter-js-widgets",
      "model_module_version": "~2.1.4",
      "model_name": "TextModel",
      "state": {
       "_model_module_version": "~2.1.4",
       "_view_module_version": "~2.1.4",
       "layout": "IPY_MODEL_f574ce79cc86416db755432e77b67226",
       "value": "SASASA"
      }
     },
     "b911f13011554c74b502529b0676c0c5": {
      "model_module": "jupyter-js-widgets",
      "model_module_version": "~2.1.4",
      "model_name": "LayoutModel",
      "state": {
       "_model_module_version": "~2.1.4",
       "_view_module_version": "~2.1.4"
      }
     },
     "ba8735fc5053481c8411b54cf4aff45c": {
      "model_module": "jupyter-js-widgets",
      "model_module_version": "~2.1.4",
      "model_name": "LayoutModel",
      "state": {
       "_model_module_version": "~2.1.4",
       "_view_module_version": "~2.1.4"
      }
     },
     "bab74ad3df674ce094b7f8ec5c7ba189": {
      "model_module": "jupyter-js-widgets",
      "model_module_version": "~2.1.4",
      "model_name": "LayoutModel",
      "state": {
       "_model_module_version": "~2.1.4",
       "_view_module_version": "~2.1.4"
      }
     },
     "babc1e83674d401f830e070bff859fbc": {
      "model_module": "jupyter-js-widgets",
      "model_module_version": "~2.1.4",
      "model_name": "TextModel",
      "state": {
       "_model_module_version": "~2.1.4",
       "_view_module_version": "~2.1.4",
       "layout": "IPY_MODEL_b420883040ef482aa6db91a38b26000a"
      }
     },
     "bb161412cbca41c1b575f8451f2d4ad9": {
      "model_module": "jupyter-js-widgets",
      "model_module_version": "~2.1.4",
      "model_name": "ButtonStyleModel",
      "state": {
       "_model_module_version": "~2.1.4",
       "_view_module_version": "~2.1.4"
      }
     },
     "bbb40f3ce7b34e2cadf66a1e43d4a336": {
      "model_module": "jupyter-js-widgets",
      "model_module_version": "~2.1.4",
      "model_name": "TextModel",
      "state": {
       "_model_module_version": "~2.1.4",
       "_view_module_version": "~2.1.4",
       "layout": "IPY_MODEL_8c3c521d0cee454f9474cd6cd54a1f58"
      }
     },
     "bc98fea25875443b82a59697e2975ea3": {
      "model_module": "jupyter-js-widgets",
      "model_module_version": "~2.1.4",
      "model_name": "LayoutModel",
      "state": {
       "_model_module_version": "~2.1.4",
       "_view_module_version": "~2.1.4"
      }
     },
     "bd57edd16d2e4354b4a42e16ea06597b": {
      "model_module": "jupyter-js-widgets",
      "model_module_version": "~2.1.4",
      "model_name": "LayoutModel",
      "state": {
       "_model_module_version": "~2.1.4",
       "_view_module_version": "~2.1.4"
      }
     },
     "bd75255a3a8344f3b81366fb670201eb": {
      "model_module": "jupyter-js-widgets",
      "model_module_version": "~2.1.4",
      "model_name": "LayoutModel",
      "state": {
       "_model_module_version": "~2.1.4",
       "_view_module_version": "~2.1.4"
      }
     },
     "bdfd7ee54eda4124a302d5a6fbda4a8c": {
      "model_module": "jupyter-js-widgets",
      "model_module_version": "~2.1.4",
      "model_name": "TextModel",
      "state": {
       "_model_module_version": "~2.1.4",
       "_view_module_version": "~2.1.4",
       "layout": "IPY_MODEL_3babed7b96314ee3bf4f5087bc0795ab",
       "value": "SASASA"
      }
     },
     "becc687ccb45474684bdfbfab10fdedb": {
      "model_module": "jupyter-js-widgets",
      "model_module_version": "~2.1.4",
      "model_name": "TextModel",
      "state": {
       "_model_module_version": "~2.1.4",
       "_view_module_version": "~2.1.4",
       "layout": "IPY_MODEL_3815a5a5ac7f45ffa62e174d4f2c709d",
       "value": "sasa"
      }
     },
     "bf64dccde2f948929e9df7cedea6dfea": {
      "model_module": "jupyter-js-widgets",
      "model_module_version": "~2.1.4",
      "model_name": "TextModel",
      "state": {
       "_model_module_version": "~2.1.4",
       "_view_module_version": "~2.1.4",
       "layout": "IPY_MODEL_ad8763fc156e4dd2a8d9fed4aac80baa",
       "value": "SASA"
      }
     },
     "c013d1fa0aa7433e9181349e028cf991": {
      "model_module": "jupyter-js-widgets",
      "model_module_version": "~2.1.4",
      "model_name": "LabelModel",
      "state": {
       "_model_module_version": "~2.1.4",
       "_view_module_version": "~2.1.4",
       "layout": "IPY_MODEL_d5f3c78d8b65494ea8316db7ee53f3a4",
       "value": "Name"
      }
     },
     "c0aee65d86654499a39b189968fadae6": {
      "model_module": "jupyter-js-widgets",
      "model_module_version": "~2.1.4",
      "model_name": "TextModel",
      "state": {
       "_model_module_version": "~2.1.4",
       "_view_module_version": "~2.1.4",
       "layout": "IPY_MODEL_03877f1b329046c48083aac0b8e4113b",
       "value": "sasasa"
      }
     },
     "c0c7a108cba44d3087ea2e3ec6e74028": {
      "model_module": "jupyter-js-widgets",
      "model_module_version": "~2.1.4",
      "model_name": "ButtonStyleModel",
      "state": {
       "_model_module_version": "~2.1.4",
       "_view_module_version": "~2.1.4"
      }
     },
     "c0fc3bb12a6748b38cab40552b8af160": {
      "model_module": "jupyter-js-widgets",
      "model_module_version": "~2.1.4",
      "model_name": "LayoutModel",
      "state": {
       "_model_module_version": "~2.1.4",
       "_view_module_version": "~2.1.4"
      }
     },
     "c25236351926497bbf99df5f1a481e0c": {
      "model_module": "jupyter-js-widgets",
      "model_module_version": "~2.1.4",
      "model_name": "LayoutModel",
      "state": {
       "_model_module_version": "~2.1.4",
       "_view_module_version": "~2.1.4"
      }
     },
     "c259404543384643a9cde468ce56506e": {
      "model_module": "jupyter-js-widgets",
      "model_module_version": "~2.1.4",
      "model_name": "ButtonModel",
      "state": {
       "_model_module_version": "~2.1.4",
       "_view_module_version": "~2.1.4",
       "description": "Submit!",
       "layout": "IPY_MODEL_fbf2fec33b2441a997945147c6d22446",
       "style": "IPY_MODEL_4637764da701442da62f778bbde01da0"
      }
     },
     "c30fbe2eb4d842f5ad683d6a2838e692": {
      "model_module": "jupyter-js-widgets",
      "model_module_version": "~2.1.4",
      "model_name": "TextModel",
      "state": {
       "_model_module_version": "~2.1.4",
       "_view_module_version": "~2.1.4",
       "layout": "IPY_MODEL_02665e2669d54593b6101180dbfd3d98",
       "value": "SASAS"
      }
     },
     "c35e125525f14b4aaf2a4bb0b568e4d0": {
      "model_module": "jupyter-js-widgets",
      "model_module_version": "~2.1.4",
      "model_name": "TextModel",
      "state": {
       "_model_module_version": "~2.1.4",
       "_view_module_version": "~2.1.4",
       "layout": "IPY_MODEL_de2c79c1a79c4e1e8ee9ea16da8b284d",
       "value": "GTGTG"
      }
     },
     "c377315f995e4c549cf9565adbdd8760": {
      "model_module": "jupyter-js-widgets",
      "model_module_version": "~2.1.4",
      "model_name": "LayoutModel",
      "state": {
       "_model_module_version": "~2.1.4",
       "_view_module_version": "~2.1.4"
      }
     },
     "c4205d0fa0b34a469d5ddda5e143bb40": {
      "model_module": "jupyter-js-widgets",
      "model_module_version": "~2.1.4",
      "model_name": "LayoutModel",
      "state": {
       "_model_module_version": "~2.1.4",
       "_view_module_version": "~2.1.4"
      }
     },
     "c4e764a5208a4f44b71bd8ae8aad7b91": {
      "model_module": "jupyter-js-widgets",
      "model_module_version": "~2.1.4",
      "model_name": "ButtonModel",
      "state": {
       "_model_module_version": "~2.1.4",
       "_view_module_version": "~2.1.4",
       "description": "Submit!",
       "layout": "IPY_MODEL_1f282eba6e174cf4a2f96832c387a343",
       "style": "IPY_MODEL_9f524b5ee1334f459d9bc272284f3b15"
      }
     },
     "c55d2bab336d4829a07fed065ab8f27a": {
      "model_module": "jupyter-js-widgets",
      "model_module_version": "~2.1.4",
      "model_name": "LayoutModel",
      "state": {
       "_model_module_version": "~2.1.4",
       "_view_module_version": "~2.1.4"
      }
     },
     "c5736fa50ba54a4fa5d1f47083d4f256": {
      "model_module": "jupyter-js-widgets",
      "model_module_version": "~2.1.4",
      "model_name": "ButtonStyleModel",
      "state": {
       "_model_module_version": "~2.1.4",
       "_view_module_version": "~2.1.4"
      }
     },
     "c6184ac1720646c1adffde13a43d5315": {
      "model_module": "jupyter-js-widgets",
      "model_module_version": "~2.1.4",
      "model_name": "ButtonModel",
      "state": {
       "_model_module_version": "~2.1.4",
       "_view_module_version": "~2.1.4",
       "description": "Submit!",
       "layout": "IPY_MODEL_85ca0176f681448caf9c52df2f0902e4",
       "style": "IPY_MODEL_4ec9be0f3b814a4aa1bdbba3b513b9f4"
      }
     },
     "c694d6b673154558ad8aa98c452d6eb3": {
      "model_module": "jupyter-js-widgets",
      "model_module_version": "~2.1.4",
      "model_name": "ButtonStyleModel",
      "state": {
       "_model_module_version": "~2.1.4",
       "_view_module_version": "~2.1.4"
      }
     },
     "c7e50c2a0a8040108e5b643628740192": {
      "model_module": "jupyter-js-widgets",
      "model_module_version": "~2.1.4",
      "model_name": "HBoxModel",
      "state": {
       "_model_module_version": "~2.1.4",
       "_view_module_version": "~2.1.4",
       "children": [
        "IPY_MODEL_40f8f6bd3f1b4b90ae050b4ee75a023b",
        "IPY_MODEL_dc13b757757f4cd7a5e3392f40a55c83"
       ],
       "layout": "IPY_MODEL_171faffd153a439e99a076dc5cecd043"
      }
     },
     "c7e737caa7254eefb65644b35a3ab4ed": {
      "model_module": "jupyter-js-widgets",
      "model_module_version": "~2.1.4",
      "model_name": "LayoutModel",
      "state": {
       "_model_module_version": "~2.1.4",
       "_view_module_version": "~2.1.4"
      }
     },
     "c8bb0aebb87d4904854477c686d94836": {
      "model_module": "jupyter-js-widgets",
      "model_module_version": "~2.1.4",
      "model_name": "LayoutModel",
      "state": {
       "_model_module_version": "~2.1.4",
       "_view_module_version": "~2.1.4"
      }
     },
     "ca52d7d2c4d348a8995e2851c931d7dd": {
      "model_module": "jupyter-js-widgets",
      "model_module_version": "~2.1.4",
      "model_name": "ButtonStyleModel",
      "state": {
       "_model_module_version": "~2.1.4",
       "_view_module_version": "~2.1.4"
      }
     },
     "caf88e1ccc814d92b6901b85eefc3d9a": {
      "model_module": "jupyter-js-widgets",
      "model_module_version": "~2.1.4",
      "model_name": "LayoutModel",
      "state": {
       "_model_module_version": "~2.1.4",
       "_view_module_version": "~2.1.4"
      }
     },
     "cc6f85c84dc0495dba7faedc6650ca40": {
      "model_module": "jupyter-js-widgets",
      "model_module_version": "~2.1.4",
      "model_name": "LayoutModel",
      "state": {
       "_model_module_version": "~2.1.4",
       "_view_module_version": "~2.1.4"
      }
     },
     "ce991de232974a8aa1b35a3ddd023f03": {
      "model_module": "jupyter-js-widgets",
      "model_module_version": "~2.1.4",
      "model_name": "ButtonModel",
      "state": {
       "_model_module_version": "~2.1.4",
       "_view_module_version": "~2.1.4",
       "description": "Submit!",
       "layout": "IPY_MODEL_2067e234610340e6bf22180b1d81f18d",
       "style": "IPY_MODEL_7080cf0986dd4c3ea95ab97ec8709108"
      }
     },
     "cf33ab72516a4da1ba9e6c038a52248a": {
      "model_module": "jupyter-js-widgets",
      "model_module_version": "~2.1.4",
      "model_name": "ButtonModel",
      "state": {
       "_model_module_version": "~2.1.4",
       "_view_module_version": "~2.1.4",
       "description": "Submit!",
       "layout": "IPY_MODEL_f93546db7cfd4be6ba40d1814183108c",
       "style": "IPY_MODEL_6b8f491c89094c80a096948e9d7f1f94"
      }
     },
     "d01911ea9e694fcab6fb17cf6e676e31": {
      "model_module": "jupyter-js-widgets",
      "model_module_version": "~2.1.4",
      "model_name": "TextModel",
      "state": {
       "_model_module_version": "~2.1.4",
       "_view_module_version": "~2.1.4",
       "layout": "IPY_MODEL_dc622d5d7acf41b9811d9cb3a58bfe4d",
       "value": "FEFEF"
      }
     },
     "d0ce68cd1a7441a9b055ade3939eb629": {
      "model_module": "jupyter-js-widgets",
      "model_module_version": "~2.1.4",
      "model_name": "LayoutModel",
      "state": {
       "_model_module_version": "~2.1.4",
       "_view_module_version": "~2.1.4"
      }
     },
     "d107580c7d4746229befcbb76750ebbd": {
      "model_module": "jupyter-js-widgets",
      "model_module_version": "~2.1.4",
      "model_name": "LayoutModel",
      "state": {
       "_model_module_version": "~2.1.4",
       "_view_module_version": "~2.1.4"
      }
     },
     "d1531ab5e8204e9baaea1044f400ce74": {
      "model_module": "jupyter-js-widgets",
      "model_module_version": "~2.1.4",
      "model_name": "TextModel",
      "state": {
       "_model_module_version": "~2.1.4",
       "_view_module_version": "~2.1.4",
       "layout": "IPY_MODEL_bd57edd16d2e4354b4a42e16ea06597b",
       "value": "Anang"
      }
     },
     "d217f876a67f4569abed3b34d1ab0960": {
      "model_module": "jupyter-js-widgets",
      "model_module_version": "~2.1.4",
      "model_name": "TextModel",
      "state": {
       "_model_module_version": "~2.1.4",
       "_view_module_version": "~2.1.4",
       "layout": "IPY_MODEL_bd75255a3a8344f3b81366fb670201eb"
      }
     },
     "d29c7fe4b5b84c96bbd904670b59b99c": {
      "model_module": "jupyter-js-widgets",
      "model_module_version": "~2.1.4",
      "model_name": "LayoutModel",
      "state": {
       "_model_module_version": "~2.1.4",
       "_view_module_version": "~2.1.4"
      }
     },
     "d2aa62c2b9464dc58cf4fa832df2d6f5": {
      "model_module": "jupyter-js-widgets",
      "model_module_version": "~2.1.4",
      "model_name": "LayoutModel",
      "state": {
       "_model_module_version": "~2.1.4",
       "_view_module_version": "~2.1.4"
      }
     },
     "d3ad2a3ba0db41359473b0a16a2cf2c9": {
      "model_module": "jupyter-js-widgets",
      "model_module_version": "~2.1.4",
      "model_name": "ButtonModel",
      "state": {
       "_model_module_version": "~2.1.4",
       "_view_module_version": "~2.1.4",
       "description": "Submit!",
       "layout": "IPY_MODEL_0758e622847d4d00a80d4100e8e7e371",
       "style": "IPY_MODEL_7859ca15049148a6ba6ee5cd6d751143"
      }
     },
     "d4d9eb85d17340bba51f8fa031399b9a": {
      "model_module": "jupyter-js-widgets",
      "model_module_version": "~2.1.4",
      "model_name": "ButtonStyleModel",
      "state": {
       "_model_module_version": "~2.1.4",
       "_view_module_version": "~2.1.4"
      }
     },
     "d53c0981df0b463a8fa6a99ea4ea9483": {
      "model_module": "jupyter-js-widgets",
      "model_module_version": "~2.1.4",
      "model_name": "LayoutModel",
      "state": {
       "_model_module_version": "~2.1.4",
       "_view_module_version": "~2.1.4"
      }
     },
     "d5f3c78d8b65494ea8316db7ee53f3a4": {
      "model_module": "jupyter-js-widgets",
      "model_module_version": "~2.1.4",
      "model_name": "LayoutModel",
      "state": {
       "_model_module_version": "~2.1.4",
       "_view_module_version": "~2.1.4"
      }
     },
     "d9a27a21df42412085a0e7f7d6501a0c": {
      "model_module": "jupyter-js-widgets",
      "model_module_version": "~2.1.4",
      "model_name": "TextModel",
      "state": {
       "_model_module_version": "~2.1.4",
       "_view_module_version": "~2.1.4",
       "layout": "IPY_MODEL_fb106ea5a98e4a55b60334b715539fa4",
       "value": "SES"
      }
     },
     "d9b5c6c6ec534dbaa3c14d51dcced5fc": {
      "model_module": "jupyter-js-widgets",
      "model_module_version": "~2.1.4",
      "model_name": "LayoutModel",
      "state": {
       "_model_module_version": "~2.1.4",
       "_view_module_version": "~2.1.4"
      }
     },
     "da35f5c0cf024e35b13f23c896d0a21c": {
      "model_module": "jupyter-js-widgets",
      "model_module_version": "~2.1.4",
      "model_name": "TextModel",
      "state": {
       "_model_module_version": "~2.1.4",
       "_view_module_version": "~2.1.4",
       "layout": "IPY_MODEL_34dd62645a2941fb8e43c2259004cad0",
       "value": "SASA"
      }
     },
     "dba308d058fb40bf89210188d6bb1844": {
      "model_module": "jupyter-js-widgets",
      "model_module_version": "~2.1.4",
      "model_name": "LayoutModel",
      "state": {
       "_model_module_version": "~2.1.4",
       "_view_module_version": "~2.1.4"
      }
     },
     "dc13b757757f4cd7a5e3392f40a55c83": {
      "model_module": "jupyter-js-widgets",
      "model_module_version": "~2.1.4",
      "model_name": "TextModel",
      "state": {
       "_model_module_version": "~2.1.4",
       "_view_module_version": "~2.1.4",
       "layout": "IPY_MODEL_bc98fea25875443b82a59697e2975ea3",
       "value": "anang"
      }
     },
     "dc622d5d7acf41b9811d9cb3a58bfe4d": {
      "model_module": "jupyter-js-widgets",
      "model_module_version": "~2.1.4",
      "model_name": "LayoutModel",
      "state": {
       "_model_module_version": "~2.1.4",
       "_view_module_version": "~2.1.4"
      }
     },
     "dca89c5a838b4d74a8658b020b1f6d50": {
      "model_module": "jupyter-js-widgets",
      "model_module_version": "~2.1.4",
      "model_name": "LayoutModel",
      "state": {
       "_model_module_version": "~2.1.4",
       "_view_module_version": "~2.1.4"
      }
     },
     "dcca540362294d7ea00db3c30242af65": {
      "model_module": "jupyter-js-widgets",
      "model_module_version": "~2.1.4",
      "model_name": "LayoutModel",
      "state": {
       "_model_module_version": "~2.1.4",
       "_view_module_version": "~2.1.4"
      }
     },
     "dd5f5235d74949b49723cedf0c62a888": {
      "model_module": "jupyter-js-widgets",
      "model_module_version": "~2.1.4",
      "model_name": "ButtonStyleModel",
      "state": {
       "_model_module_version": "~2.1.4",
       "_view_module_version": "~2.1.4"
      }
     },
     "ddf3d04314fc43e0869863a4981e2bbc": {
      "model_module": "jupyter-js-widgets",
      "model_module_version": "~2.1.4",
      "model_name": "TextModel",
      "state": {
       "_model_module_version": "~2.1.4",
       "_view_module_version": "~2.1.4",
       "layout": "IPY_MODEL_faab5eb825744d598a0061565e2f9b0e",
       "value": "sasasa"
      }
     },
     "de25e2b105d248c3b7a2b920405deb38": {
      "model_module": "jupyter-js-widgets",
      "model_module_version": "~2.1.4",
      "model_name": "ButtonModel",
      "state": {
       "_model_module_version": "~2.1.4",
       "_view_module_version": "~2.1.4",
       "description": "Submit!",
       "layout": "IPY_MODEL_68220a2b06b2450fa3afb896fdf4869d",
       "style": "IPY_MODEL_f30e8404baca44e28ecfceb05f2230b8"
      }
     },
     "de2c79c1a79c4e1e8ee9ea16da8b284d": {
      "model_module": "jupyter-js-widgets",
      "model_module_version": "~2.1.4",
      "model_name": "LayoutModel",
      "state": {
       "_model_module_version": "~2.1.4",
       "_view_module_version": "~2.1.4"
      }
     },
     "de8eacfebaf04735b10ac0eefa5c1cfc": {
      "model_module": "jupyter-js-widgets",
      "model_module_version": "~2.1.4",
      "model_name": "LayoutModel",
      "state": {
       "_model_module_version": "~2.1.4",
       "_view_module_version": "~2.1.4"
      }
     },
     "dea09618454e4e469ac8493f90dd465b": {
      "model_module": "jupyter-js-widgets",
      "model_module_version": "~2.1.4",
      "model_name": "TextModel",
      "state": {
       "_model_module_version": "~2.1.4",
       "_view_module_version": "~2.1.4",
       "layout": "IPY_MODEL_02f5bbb63c2b465f8ddae155e6e7095c",
       "value": "anang"
      }
     },
     "e022723a65294ffe9c90060eccd46355": {
      "model_module": "jupyter-js-widgets",
      "model_module_version": "~2.1.4",
      "model_name": "HBoxModel",
      "state": {
       "_model_module_version": "~2.1.4",
       "_view_module_version": "~2.1.4",
       "children": [
        "IPY_MODEL_c013d1fa0aa7433e9181349e028cf991",
        "IPY_MODEL_06a9f5e0a55b42b59c4177ab9233f378"
       ],
       "layout": "IPY_MODEL_6b1f153192734a8195a14c59fc0c4b13"
      }
     },
     "e131134cffff44388383cd850fd3c46a": {
      "model_module": "jupyter-js-widgets",
      "model_module_version": "~2.1.4",
      "model_name": "LayoutModel",
      "state": {
       "_model_module_version": "~2.1.4",
       "_view_module_version": "~2.1.4"
      }
     },
     "e14414f304704861898b2495a1afd892": {
      "model_module": "jupyter-js-widgets",
      "model_module_version": "~2.1.4",
      "model_name": "LayoutModel",
      "state": {
       "_model_module_version": "~2.1.4",
       "_view_module_version": "~2.1.4"
      }
     },
     "e17fab39e46d446896787557fba95766": {
      "model_module": "jupyter-js-widgets",
      "model_module_version": "~2.1.4",
      "model_name": "LayoutModel",
      "state": {
       "_model_module_version": "~2.1.4",
       "_view_module_version": "~2.1.4"
      }
     },
     "e1994a2406af45dc95934d1dd30819f3": {
      "model_module": "jupyter-js-widgets",
      "model_module_version": "~2.1.4",
      "model_name": "TextModel",
      "state": {
       "_model_module_version": "~2.1.4",
       "_view_module_version": "~2.1.4",
       "layout": "IPY_MODEL_6f40278d160e4ffc90dfbdd4ccfd965e",
       "value": "anang"
      }
     },
     "e24546a495fb4d86b64c741c0794d180": {
      "model_module": "jupyter-js-widgets",
      "model_module_version": "~2.1.4",
      "model_name": "TextModel",
      "state": {
       "_model_module_version": "~2.1.4",
       "_view_module_version": "~2.1.4",
       "layout": "IPY_MODEL_c377315f995e4c549cf9565adbdd8760",
       "value": "Anang"
      }
     },
     "e258bb5820264846ba98088f4b4331c0": {
      "model_module": "jupyter-js-widgets",
      "model_module_version": "~2.1.4",
      "model_name": "LayoutModel",
      "state": {
       "_model_module_version": "~2.1.4",
       "_view_module_version": "~2.1.4"
      }
     },
     "e37b97a83a704f85985087ef69d5e3bb": {
      "model_module": "jupyter-js-widgets",
      "model_module_version": "~2.1.4",
      "model_name": "LayoutModel",
      "state": {
       "_model_module_version": "~2.1.4",
       "_view_module_version": "~2.1.4"
      }
     },
     "e39039292dc44d08944a848ff1f52d75": {
      "model_module": "jupyter-js-widgets",
      "model_module_version": "~2.1.4",
      "model_name": "LayoutModel",
      "state": {
       "_model_module_version": "~2.1.4",
       "_view_module_version": "~2.1.4"
      }
     },
     "e3c61f676532480d82dde70fd570d4ac": {
      "model_module": "jupyter-js-widgets",
      "model_module_version": "~2.1.4",
      "model_name": "LayoutModel",
      "state": {
       "_model_module_version": "~2.1.4",
       "_view_module_version": "~2.1.4"
      }
     },
     "e3cab2cdcbc34e5aab04457fa5e29fa9": {
      "model_module": "jupyter-js-widgets",
      "model_module_version": "~2.1.4",
      "model_name": "TextModel",
      "state": {
       "_model_module_version": "~2.1.4",
       "_view_module_version": "~2.1.4",
       "layout": "IPY_MODEL_28a7c22d0ad3457188f7d939eaa13309",
       "value": "sasasa"
      }
     },
     "e440205baee34260803d8027984eb967": {
      "model_module": "jupyter-js-widgets",
      "model_module_version": "~2.1.4",
      "model_name": "LayoutModel",
      "state": {
       "_model_module_version": "~2.1.4",
       "_view_module_version": "~2.1.4"
      }
     },
     "e8358dc3a071457187fe60a7e5959b43": {
      "model_module": "jupyter-js-widgets",
      "model_module_version": "~2.1.4",
      "model_name": "LayoutModel",
      "state": {
       "_model_module_version": "~2.1.4",
       "_view_module_version": "~2.1.4"
      }
     },
     "e95093eb3db844b0a6ff000bde10a761": {
      "model_module": "jupyter-js-widgets",
      "model_module_version": "~2.1.4",
      "model_name": "ButtonModel",
      "state": {
       "_model_module_version": "~2.1.4",
       "_view_module_version": "~2.1.4",
       "description": "Submit!",
       "layout": "IPY_MODEL_31682ff8469541eab84c5e20c596b263",
       "style": "IPY_MODEL_1fc6bb824f314ed5bb9f25fdb79c3224"
      }
     },
     "e985111f75b748d18c3030c2e614dbd3": {
      "model_module": "jupyter-js-widgets",
      "model_module_version": "~2.1.4",
      "model_name": "TextModel",
      "state": {
       "_model_module_version": "~2.1.4",
       "_view_module_version": "~2.1.4",
       "layout": "IPY_MODEL_dcca540362294d7ea00db3c30242af65"
      }
     },
     "eadbc8738a9c4f7894b2da1f994c177a": {
      "model_module": "jupyter-js-widgets",
      "model_module_version": "~2.1.4",
      "model_name": "ButtonModel",
      "state": {
       "_model_module_version": "~2.1.4",
       "_view_module_version": "~2.1.4",
       "description": "Submit!",
       "layout": "IPY_MODEL_ec8ee3eb4579455da1f225abb8f6d192",
       "style": "IPY_MODEL_345959fdbedd4ff489ce1d6a3641c3df"
      }
     },
     "eb0c18f074ab42e8a26c9edc43bc3c0e": {
      "model_module": "jupyter-js-widgets",
      "model_module_version": "~2.1.4",
      "model_name": "ButtonStyleModel",
      "state": {
       "_model_module_version": "~2.1.4",
       "_view_module_version": "~2.1.4"
      }
     },
     "ec8ee3eb4579455da1f225abb8f6d192": {
      "model_module": "jupyter-js-widgets",
      "model_module_version": "~2.1.4",
      "model_name": "LayoutModel",
      "state": {
       "_model_module_version": "~2.1.4",
       "_view_module_version": "~2.1.4"
      }
     },
     "edc91533e90544efa9c48663dbf15d16": {
      "model_module": "jupyter-js-widgets",
      "model_module_version": "~2.1.4",
      "model_name": "ButtonModel",
      "state": {
       "_model_module_version": "~2.1.4",
       "_view_module_version": "~2.1.4",
       "description": "Submit!",
       "layout": "IPY_MODEL_337193baa3c94a56b486b5ab2c6b13e3",
       "style": "IPY_MODEL_c0c7a108cba44d3087ea2e3ec6e74028"
      }
     },
     "ede851fc085d4c07a48df87e4c273dae": {
      "model_module": "jupyter-js-widgets",
      "model_module_version": "~2.1.4",
      "model_name": "TextModel",
      "state": {
       "_model_module_version": "~2.1.4",
       "_view_module_version": "~2.1.4",
       "layout": "IPY_MODEL_6c8a0cb875534467b4126cbce8d7d0c9",
       "value": "BSBSBS"
      }
     },
     "eeaee4b317b14f359eaa09d31f8adb3d": {
      "model_module": "jupyter-js-widgets",
      "model_module_version": "~2.1.4",
      "model_name": "TextModel",
      "state": {
       "_model_module_version": "~2.1.4",
       "_view_module_version": "~2.1.4",
       "layout": "IPY_MODEL_b911f13011554c74b502529b0676c0c5",
       "value": "ANANG"
      }
     },
     "eee8908c1221499a97f3c8193813269b": {
      "model_module": "jupyter-js-widgets",
      "model_module_version": "~2.1.4",
      "model_name": "LayoutModel",
      "state": {
       "_model_module_version": "~2.1.4",
       "_view_module_version": "~2.1.4"
      }
     },
     "ef6db3093d9c44e0949acbb5c7456f23": {
      "model_module": "jupyter-js-widgets",
      "model_module_version": "~2.1.4",
      "model_name": "LayoutModel",
      "state": {
       "_model_module_version": "~2.1.4",
       "_view_module_version": "~2.1.4"
      }
     },
     "ef9418b59b9b43fc9469fed88412d86b": {
      "model_module": "jupyter-js-widgets",
      "model_module_version": "~2.1.4",
      "model_name": "ButtonModel",
      "state": {
       "_model_module_version": "~2.1.4",
       "_view_module_version": "~2.1.4",
       "description": "Submit!",
       "layout": "IPY_MODEL_3b1fa3dd1471432a964fb03f1a656fe3",
       "style": "IPY_MODEL_c5736fa50ba54a4fa5d1f47083d4f256"
      }
     },
     "eff33471b73c4d539145657a79f6ddcf": {
      "model_module": "jupyter-js-widgets",
      "model_module_version": "~2.1.4",
      "model_name": "TextModel",
      "state": {
       "_model_module_version": "~2.1.4",
       "_view_module_version": "~2.1.4",
       "layout": "IPY_MODEL_c0fc3bb12a6748b38cab40552b8af160",
       "value": "ANANG"
      }
     },
     "f0b8ec9036c64c8fbe6aad6a50c90e6f": {
      "model_module": "jupyter-js-widgets",
      "model_module_version": "~2.1.4",
      "model_name": "TextModel",
      "state": {
       "_model_module_version": "~2.1.4",
       "_view_module_version": "~2.1.4",
       "layout": "IPY_MODEL_98686c93563f4b7c8cdc76f947923eb0",
       "value": "Hello Anang"
      }
     },
     "f100d3bf72534c3abfa4b07d0fa0e589": {
      "model_module": "jupyter-js-widgets",
      "model_module_version": "~2.1.4",
      "model_name": "LayoutModel",
      "state": {
       "_model_module_version": "~2.1.4",
       "_view_module_version": "~2.1.4"
      }
     },
     "f18b2a8150a946f29399cc4e19f47139": {
      "model_module": "jupyter-js-widgets",
      "model_module_version": "~2.1.4",
      "model_name": "ButtonStyleModel",
      "state": {
       "_model_module_version": "~2.1.4",
       "_view_module_version": "~2.1.4"
      }
     },
     "f1e770c8e9324104b32c9a5f0ce90da1": {
      "model_module": "jupyter-js-widgets",
      "model_module_version": "~2.1.4",
      "model_name": "LayoutModel",
      "state": {
       "_model_module_version": "~2.1.4",
       "_view_module_version": "~2.1.4"
      }
     },
     "f30e8404baca44e28ecfceb05f2230b8": {
      "model_module": "jupyter-js-widgets",
      "model_module_version": "~2.1.4",
      "model_name": "ButtonStyleModel",
      "state": {
       "_model_module_version": "~2.1.4",
       "_view_module_version": "~2.1.4"
      }
     },
     "f31e8391596449a1bda0e1df6c8fc9c8": {
      "model_module": "jupyter-js-widgets",
      "model_module_version": "~2.1.4",
      "model_name": "LayoutModel",
      "state": {
       "_model_module_version": "~2.1.4",
       "_view_module_version": "~2.1.4"
      }
     },
     "f36d3695ed27490f9194e0325a6428cb": {
      "model_module": "jupyter-js-widgets",
      "model_module_version": "~2.1.4",
      "model_name": "LayoutModel",
      "state": {
       "_model_module_version": "~2.1.4",
       "_view_module_version": "~2.1.4"
      }
     },
     "f3eca99650fc45ca9447f1d22573803e": {
      "model_module": "jupyter-js-widgets",
      "model_module_version": "~2.1.4",
      "model_name": "LayoutModel",
      "state": {
       "_model_module_version": "~2.1.4",
       "_view_module_version": "~2.1.4"
      }
     },
     "f574ce79cc86416db755432e77b67226": {
      "model_module": "jupyter-js-widgets",
      "model_module_version": "~2.1.4",
      "model_name": "LayoutModel",
      "state": {
       "_model_module_version": "~2.1.4",
       "_view_module_version": "~2.1.4"
      }
     },
     "f635525a06fc4976a23185ef6d1836e4": {
      "model_module": "jupyter-js-widgets",
      "model_module_version": "~2.1.4",
      "model_name": "TextModel",
      "state": {
       "_model_module_version": "~2.1.4",
       "_view_module_version": "~2.1.4",
       "layout": "IPY_MODEL_b4bacb00beaf4f4e89179284a0dd4acd",
       "value": "DEDE"
      }
     },
     "f67f329cd8a04d13b8a243ef9faa6ee1": {
      "model_module": "jupyter-js-widgets",
      "model_module_version": "~2.1.4",
      "model_name": "TextModel",
      "state": {
       "_model_module_version": "~2.1.4",
       "_view_module_version": "~2.1.4",
       "layout": "IPY_MODEL_caf88e1ccc814d92b6901b85eefc3d9a",
       "value": "SASASA"
      }
     },
     "f70054f4f4d34a3ba041bdc66e80bd39": {
      "model_module": "jupyter-js-widgets",
      "model_module_version": "~2.1.4",
      "model_name": "LayoutModel",
      "state": {
       "_model_module_version": "~2.1.4",
       "_view_module_version": "~2.1.4"
      }
     },
     "f7a34d803c2d44e4bcb8b462fab8a683": {
      "model_module": "jupyter-js-widgets",
      "model_module_version": "~2.1.4",
      "model_name": "LayoutModel",
      "state": {
       "_model_module_version": "~2.1.4",
       "_view_module_version": "~2.1.4"
      }
     },
     "f871b9b731444bbf80cb463097ff8554": {
      "model_module": "jupyter-js-widgets",
      "model_module_version": "~2.1.4",
      "model_name": "ButtonModel",
      "state": {
       "_model_module_version": "~2.1.4",
       "_view_module_version": "~2.1.4",
       "description": "Submit!",
       "layout": "IPY_MODEL_121e340a588847da879cdf6e6fd91cab",
       "style": "IPY_MODEL_f18b2a8150a946f29399cc4e19f47139"
      }
     },
     "f8b3eb2cc6e94a169f5207be0e211192": {
      "model_module": "jupyter-js-widgets",
      "model_module_version": "~2.1.4",
      "model_name": "LayoutModel",
      "state": {
       "_model_module_version": "~2.1.4",
       "_view_module_version": "~2.1.4"
      }
     },
     "f93546db7cfd4be6ba40d1814183108c": {
      "model_module": "jupyter-js-widgets",
      "model_module_version": "~2.1.4",
      "model_name": "LayoutModel",
      "state": {
       "_model_module_version": "~2.1.4",
       "_view_module_version": "~2.1.4"
      }
     },
     "fa407e8c333f43d18afd2b10d2c9f674": {
      "model_module": "jupyter-js-widgets",
      "model_module_version": "~2.1.4",
      "model_name": "ButtonStyleModel",
      "state": {
       "_model_module_version": "~2.1.4",
       "_view_module_version": "~2.1.4"
      }
     },
     "fa7777f9b02849828121cd7d286f53e6": {
      "model_module": "jupyter-js-widgets",
      "model_module_version": "~2.1.4",
      "model_name": "ButtonStyleModel",
      "state": {
       "_model_module_version": "~2.1.4",
       "_view_module_version": "~2.1.4"
      }
     },
     "faab5eb825744d598a0061565e2f9b0e": {
      "model_module": "jupyter-js-widgets",
      "model_module_version": "~2.1.4",
      "model_name": "LayoutModel",
      "state": {
       "_model_module_version": "~2.1.4",
       "_view_module_version": "~2.1.4"
      }
     },
     "faaba973cbd54c129aefa2294324e0f3": {
      "model_module": "jupyter-js-widgets",
      "model_module_version": "~2.1.4",
      "model_name": "LayoutModel",
      "state": {
       "_model_module_version": "~2.1.4",
       "_view_module_version": "~2.1.4"
      }
     },
     "fb106ea5a98e4a55b60334b715539fa4": {
      "model_module": "jupyter-js-widgets",
      "model_module_version": "~2.1.4",
      "model_name": "LayoutModel",
      "state": {
       "_model_module_version": "~2.1.4",
       "_view_module_version": "~2.1.4"
      }
     },
     "fb2657a4f4fa445f811fe9c73cdb1747": {
      "model_module": "jupyter-js-widgets",
      "model_module_version": "~2.1.4",
      "model_name": "TextModel",
      "state": {
       "_model_module_version": "~2.1.4",
       "_view_module_version": "~2.1.4",
       "layout": "IPY_MODEL_856c35d9b4e442369d025dde40ea0730",
       "value": "ANang"
      }
     },
     "fb9606a6a95047c5b782f1203d0cf07b": {
      "model_module": "jupyter-js-widgets",
      "model_module_version": "~2.1.4",
      "model_name": "ButtonStyleModel",
      "state": {
       "_model_module_version": "~2.1.4",
       "_view_module_version": "~2.1.4"
      }
     },
     "fbf2fec33b2441a997945147c6d22446": {
      "model_module": "jupyter-js-widgets",
      "model_module_version": "~2.1.4",
      "model_name": "LayoutModel",
      "state": {
       "_model_module_version": "~2.1.4",
       "_view_module_version": "~2.1.4"
      }
     },
     "fe1da8e48d6847a68ff88d088d57322b": {
      "model_module": "jupyter-js-widgets",
      "model_module_version": "~2.1.4",
      "model_name": "TextModel",
      "state": {
       "_model_module_version": "~2.1.4",
       "_view_module_version": "~2.1.4",
       "layout": "IPY_MODEL_1bbe1a3b483b430cac291f4cd3ab843e",
       "value": "sesese"
      }
     },
     "fec29f5ada4d4bd4a32e33137df9f25b": {
      "model_module": "jupyter-js-widgets",
      "model_module_version": "~2.1.4",
      "model_name": "LayoutModel",
      "state": {
       "_model_module_version": "~2.1.4",
       "_view_module_version": "~2.1.4"
      }
     },
     "ff87ffc1082347fc9b7750a0b0fa87f0": {
      "model_module": "jupyter-js-widgets",
      "model_module_version": "~2.1.4",
      "model_name": "LayoutModel",
      "state": {
       "_model_module_version": "~2.1.4",
       "_view_module_version": "~2.1.4"
      }
     }
    },
    "version_major": 1,
    "version_minor": 0
   }
  }
 },
 "nbformat": 4,
 "nbformat_minor": 2
}
